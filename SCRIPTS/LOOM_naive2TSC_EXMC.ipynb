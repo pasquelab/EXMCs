{
 "cells": [
  {
   "cell_type": "markdown",
   "metadata": {},
   "source": [
    "Set working directory"
   ]
  },
  {
   "cell_type": "code",
   "execution_count": 1,
   "metadata": {},
   "outputs": [],
   "source": [
    "setwd(\"/lustre1/project/stg_00041/XuanAi/EXMC_2021_2022/Archive/timecourse_naive2TSCs_EXMCs\")"
   ]
  },
  {
   "cell_type": "markdown",
   "metadata": {},
   "source": [
    "Libraries"
   ]
  },
  {
   "cell_type": "code",
   "execution_count": 2,
   "metadata": {},
   "outputs": [
    {
     "name": "stderr",
     "output_type": "stream",
     "text": [
      "Warning message:\n",
      "“package ‘Seurat’ was built under R version 4.1.2”\n",
      "Attaching SeuratObject\n",
      "\n",
      "\n",
      "Attaching package: ‘dplyr’\n",
      "\n",
      "\n",
      "The following objects are masked from ‘package:stats’:\n",
      "\n",
      "    filter, lag\n",
      "\n",
      "\n",
      "The following objects are masked from ‘package:base’:\n",
      "\n",
      "    intersect, setdiff, setequal, union\n",
      "\n",
      "\n",
      "Warning message:\n",
      "“‘timedatectl’ indicates the non-existent timezone name ‘n/a’”\n",
      "Warning message:\n",
      "“Your system is mis-configured: ‘/etc/localtime’ is not a symlink”\n",
      "Warning message:\n",
      "“It is strongly recommended to set envionment variable TZ to ‘Europe/Brussels’ (or equivalent)”\n",
      "── \u001b[1mAttaching packages\u001b[22m ─────────────────────────────────────── tidyverse 1.3.1 ──\n",
      "\n",
      "\u001b[32m✔\u001b[39m \u001b[34mggplot2\u001b[39m 3.3.6     \u001b[32m✔\u001b[39m \u001b[34mpurrr  \u001b[39m 0.3.4\n",
      "\u001b[32m✔\u001b[39m \u001b[34mtibble \u001b[39m 3.1.6     \u001b[32m✔\u001b[39m \u001b[34mstringr\u001b[39m 1.4.0\n",
      "\u001b[32m✔\u001b[39m \u001b[34mtidyr  \u001b[39m 1.2.0     \u001b[32m✔\u001b[39m \u001b[34mforcats\u001b[39m 0.5.1\n",
      "\u001b[32m✔\u001b[39m \u001b[34mreadr  \u001b[39m 2.1.2     \n",
      "\n",
      "Warning message:\n",
      "“package ‘tibble’ was built under R version 4.1.1”\n",
      "── \u001b[1mConflicts\u001b[22m ────────────────────────────────────────── tidyverse_conflicts() ──\n",
      "\u001b[31m✖\u001b[39m \u001b[34mdplyr\u001b[39m::\u001b[32mfilter()\u001b[39m masks \u001b[34mstats\u001b[39m::filter()\n",
      "\u001b[31m✖\u001b[39m \u001b[34mdplyr\u001b[39m::\u001b[32mlag()\u001b[39m    masks \u001b[34mstats\u001b[39m::lag()\n",
      "\n"
     ]
    }
   ],
   "source": [
    "library(Seurat)\n",
    "library(dplyr)\n",
    "library(tidyverse)"
   ]
  },
  {
   "cell_type": "code",
   "execution_count": 3,
   "metadata": {},
   "outputs": [],
   "source": [
    "library(tibble)\n",
    "#library(SeuratData)"
   ]
  },
  {
   "cell_type": "code",
   "execution_count": 4,
   "metadata": {},
   "outputs": [],
   "source": [
    "library(ggplot2)\n",
    "library(cowplot)"
   ]
  },
  {
   "cell_type": "code",
   "execution_count": 5,
   "metadata": {},
   "outputs": [
    {
     "name": "stderr",
     "output_type": "stream",
     "text": [
      "\n",
      "Attaching package: ‘SCopeLoomR’\n",
      "\n",
      "\n",
      "The following object is masked from ‘package:base’:\n",
      "\n",
      "    flush\n",
      "\n",
      "\n"
     ]
    }
   ],
   "source": [
    "library(SCopeLoomR)"
   ]
  },
  {
   "cell_type": "code",
   "execution_count": 6,
   "metadata": {},
   "outputs": [],
   "source": [
    "Colourblind_palette <- c( \"#E69F00\" , \"#56B4E9\" , \"#009E73\" , \"#F0E442\" , \"#0072B2\" , \"#D55E00\" , \"#CC79A7\" , \"#000000\" )"
   ]
  },
  {
   "cell_type": "code",
   "execution_count": 25,
   "metadata": {},
   "outputs": [],
   "source": [
    "so<- readRDS(\"so_tc_naive2TSC_EXMC_2022.rds\")"
   ]
  },
  {
   "cell_type": "code",
   "execution_count": 26,
   "metadata": {},
   "outputs": [
    {
     "data": {
      "text/html": [
       "<table class=\"dataframe\">\n",
       "<caption>A data.frame: 10 × 9</caption>\n",
       "<thead>\n",
       "\t<tr><th></th><th scope=col>orig.ident</th><th scope=col>nCount_RNA</th><th scope=col>nFeature_RNA</th><th scope=col>cell</th><th scope=col>Samples</th><th scope=col>percent.mt</th><th scope=col>RNA_snn_res.0.2</th><th scope=col>seurat_clusters</th><th scope=col>anno.cluster</th></tr>\n",
       "\t<tr><th></th><th scope=col>&lt;fct&gt;</th><th scope=col>&lt;dbl&gt;</th><th scope=col>&lt;int&gt;</th><th scope=col>&lt;chr&gt;</th><th scope=col>&lt;chr&gt;</th><th scope=col>&lt;dbl&gt;</th><th scope=col>&lt;fct&gt;</th><th scope=col>&lt;fct&gt;</th><th scope=col>&lt;fct&gt;</th></tr>\n",
       "</thead>\n",
       "<tbody>\n",
       "\t<tr><th scope=row>AAACCCATCTTCGCTG.1</th><td>tc_XA</td><td>29982</td><td>6390</td><td>AAACCCATCTTCGCTG.1</td><td>D0</td><td> 5.409913</td><td>3</td><td>3</td><td>naive</td></tr>\n",
       "\t<tr><th scope=row>AAACGCTAGACCTTTG.1</th><td>tc_XA</td><td>58427</td><td>7486</td><td>AAACGCTAGACCTTTG.1</td><td>D0</td><td>11.005186</td><td>3</td><td>3</td><td>naive</td></tr>\n",
       "\t<tr><th scope=row>AAACGCTTCACCTCGT.1</th><td>tc_XA</td><td>37718</td><td>6780</td><td>AAACGCTTCACCTCGT.1</td><td>D0</td><td> 5.302508</td><td>3</td><td>3</td><td>naive</td></tr>\n",
       "\t<tr><th scope=row>AAAGAACTCCCTCTAG.1</th><td>tc_XA</td><td>12857</td><td>3977</td><td>AAAGAACTCCCTCTAG.1</td><td>D0</td><td> 8.127868</td><td>3</td><td>3</td><td>naive</td></tr>\n",
       "\t<tr><th scope=row>AAAGGATTCTCGCTCA.1</th><td>tc_XA</td><td>34149</td><td>6625</td><td>AAAGGATTCTCGCTCA.1</td><td>D0</td><td> 6.020674</td><td>3</td><td>3</td><td>naive</td></tr>\n",
       "\t<tr><th scope=row>AAAGGGCAGTTCCGGC.1</th><td>tc_XA</td><td>39409</td><td>6588</td><td>AAAGGGCAGTTCCGGC.1</td><td>D0</td><td> 4.826309</td><td>3</td><td>3</td><td>naive</td></tr>\n",
       "\t<tr><th scope=row>AAAGGGCGTCATCTAG.1</th><td>tc_XA</td><td> 2558</td><td>1442</td><td>AAAGGGCGTCATCTAG.1</td><td>D0</td><td>10.946052</td><td>3</td><td>3</td><td>naive</td></tr>\n",
       "\t<tr><th scope=row>AAAGGTAAGGAACTCG.1</th><td>tc_XA</td><td>35177</td><td>6312</td><td>AAAGGTAAGGAACTCG.1</td><td>D0</td><td> 7.908577</td><td>3</td><td>3</td><td>naive</td></tr>\n",
       "\t<tr><th scope=row>AAAGGTAGTATCGGTT.1</th><td>tc_XA</td><td>41374</td><td>6681</td><td>AAAGGTAGTATCGGTT.1</td><td>D0</td><td>14.557452</td><td>3</td><td>3</td><td>naive</td></tr>\n",
       "\t<tr><th scope=row>AAAGTCCTCGGAACTT.1</th><td>tc_XA</td><td> 6275</td><td>2536</td><td>AAAGTCCTCGGAACTT.1</td><td>D0</td><td> 4.366534</td><td>3</td><td>3</td><td>naive</td></tr>\n",
       "</tbody>\n",
       "</table>\n"
      ],
      "text/latex": [
       "A data.frame: 10 × 9\n",
       "\\begin{tabular}{r|lllllllll}\n",
       "  & orig.ident & nCount\\_RNA & nFeature\\_RNA & cell & Samples & percent.mt & RNA\\_snn\\_res.0.2 & seurat\\_clusters & anno.cluster\\\\\n",
       "  & <fct> & <dbl> & <int> & <chr> & <chr> & <dbl> & <fct> & <fct> & <fct>\\\\\n",
       "\\hline\n",
       "\tAAACCCATCTTCGCTG.1 & tc\\_XA & 29982 & 6390 & AAACCCATCTTCGCTG.1 & D0 &  5.409913 & 3 & 3 & naive\\\\\n",
       "\tAAACGCTAGACCTTTG.1 & tc\\_XA & 58427 & 7486 & AAACGCTAGACCTTTG.1 & D0 & 11.005186 & 3 & 3 & naive\\\\\n",
       "\tAAACGCTTCACCTCGT.1 & tc\\_XA & 37718 & 6780 & AAACGCTTCACCTCGT.1 & D0 &  5.302508 & 3 & 3 & naive\\\\\n",
       "\tAAAGAACTCCCTCTAG.1 & tc\\_XA & 12857 & 3977 & AAAGAACTCCCTCTAG.1 & D0 &  8.127868 & 3 & 3 & naive\\\\\n",
       "\tAAAGGATTCTCGCTCA.1 & tc\\_XA & 34149 & 6625 & AAAGGATTCTCGCTCA.1 & D0 &  6.020674 & 3 & 3 & naive\\\\\n",
       "\tAAAGGGCAGTTCCGGC.1 & tc\\_XA & 39409 & 6588 & AAAGGGCAGTTCCGGC.1 & D0 &  4.826309 & 3 & 3 & naive\\\\\n",
       "\tAAAGGGCGTCATCTAG.1 & tc\\_XA &  2558 & 1442 & AAAGGGCGTCATCTAG.1 & D0 & 10.946052 & 3 & 3 & naive\\\\\n",
       "\tAAAGGTAAGGAACTCG.1 & tc\\_XA & 35177 & 6312 & AAAGGTAAGGAACTCG.1 & D0 &  7.908577 & 3 & 3 & naive\\\\\n",
       "\tAAAGGTAGTATCGGTT.1 & tc\\_XA & 41374 & 6681 & AAAGGTAGTATCGGTT.1 & D0 & 14.557452 & 3 & 3 & naive\\\\\n",
       "\tAAAGTCCTCGGAACTT.1 & tc\\_XA &  6275 & 2536 & AAAGTCCTCGGAACTT.1 & D0 &  4.366534 & 3 & 3 & naive\\\\\n",
       "\\end{tabular}\n"
      ],
      "text/markdown": [
       "\n",
       "A data.frame: 10 × 9\n",
       "\n",
       "| <!--/--> | orig.ident &lt;fct&gt; | nCount_RNA &lt;dbl&gt; | nFeature_RNA &lt;int&gt; | cell &lt;chr&gt; | Samples &lt;chr&gt; | percent.mt &lt;dbl&gt; | RNA_snn_res.0.2 &lt;fct&gt; | seurat_clusters &lt;fct&gt; | anno.cluster &lt;fct&gt; |\n",
       "|---|---|---|---|---|---|---|---|---|---|\n",
       "| AAACCCATCTTCGCTG.1 | tc_XA | 29982 | 6390 | AAACCCATCTTCGCTG.1 | D0 |  5.409913 | 3 | 3 | naive |\n",
       "| AAACGCTAGACCTTTG.1 | tc_XA | 58427 | 7486 | AAACGCTAGACCTTTG.1 | D0 | 11.005186 | 3 | 3 | naive |\n",
       "| AAACGCTTCACCTCGT.1 | tc_XA | 37718 | 6780 | AAACGCTTCACCTCGT.1 | D0 |  5.302508 | 3 | 3 | naive |\n",
       "| AAAGAACTCCCTCTAG.1 | tc_XA | 12857 | 3977 | AAAGAACTCCCTCTAG.1 | D0 |  8.127868 | 3 | 3 | naive |\n",
       "| AAAGGATTCTCGCTCA.1 | tc_XA | 34149 | 6625 | AAAGGATTCTCGCTCA.1 | D0 |  6.020674 | 3 | 3 | naive |\n",
       "| AAAGGGCAGTTCCGGC.1 | tc_XA | 39409 | 6588 | AAAGGGCAGTTCCGGC.1 | D0 |  4.826309 | 3 | 3 | naive |\n",
       "| AAAGGGCGTCATCTAG.1 | tc_XA |  2558 | 1442 | AAAGGGCGTCATCTAG.1 | D0 | 10.946052 | 3 | 3 | naive |\n",
       "| AAAGGTAAGGAACTCG.1 | tc_XA | 35177 | 6312 | AAAGGTAAGGAACTCG.1 | D0 |  7.908577 | 3 | 3 | naive |\n",
       "| AAAGGTAGTATCGGTT.1 | tc_XA | 41374 | 6681 | AAAGGTAGTATCGGTT.1 | D0 | 14.557452 | 3 | 3 | naive |\n",
       "| AAAGTCCTCGGAACTT.1 | tc_XA |  6275 | 2536 | AAAGTCCTCGGAACTT.1 | D0 |  4.366534 | 3 | 3 | naive |\n",
       "\n"
      ],
      "text/plain": [
       "                   orig.ident nCount_RNA nFeature_RNA cell              \n",
       "AAACCCATCTTCGCTG.1 tc_XA      29982      6390         AAACCCATCTTCGCTG.1\n",
       "AAACGCTAGACCTTTG.1 tc_XA      58427      7486         AAACGCTAGACCTTTG.1\n",
       "AAACGCTTCACCTCGT.1 tc_XA      37718      6780         AAACGCTTCACCTCGT.1\n",
       "AAAGAACTCCCTCTAG.1 tc_XA      12857      3977         AAAGAACTCCCTCTAG.1\n",
       "AAAGGATTCTCGCTCA.1 tc_XA      34149      6625         AAAGGATTCTCGCTCA.1\n",
       "AAAGGGCAGTTCCGGC.1 tc_XA      39409      6588         AAAGGGCAGTTCCGGC.1\n",
       "AAAGGGCGTCATCTAG.1 tc_XA       2558      1442         AAAGGGCGTCATCTAG.1\n",
       "AAAGGTAAGGAACTCG.1 tc_XA      35177      6312         AAAGGTAAGGAACTCG.1\n",
       "AAAGGTAGTATCGGTT.1 tc_XA      41374      6681         AAAGGTAGTATCGGTT.1\n",
       "AAAGTCCTCGGAACTT.1 tc_XA       6275      2536         AAAGTCCTCGGAACTT.1\n",
       "                   Samples percent.mt RNA_snn_res.0.2 seurat_clusters\n",
       "AAACCCATCTTCGCTG.1 D0       5.409913  3               3              \n",
       "AAACGCTAGACCTTTG.1 D0      11.005186  3               3              \n",
       "AAACGCTTCACCTCGT.1 D0       5.302508  3               3              \n",
       "AAAGAACTCCCTCTAG.1 D0       8.127868  3               3              \n",
       "AAAGGATTCTCGCTCA.1 D0       6.020674  3               3              \n",
       "AAAGGGCAGTTCCGGC.1 D0       4.826309  3               3              \n",
       "AAAGGGCGTCATCTAG.1 D0      10.946052  3               3              \n",
       "AAAGGTAAGGAACTCG.1 D0       7.908577  3               3              \n",
       "AAAGGTAGTATCGGTT.1 D0      14.557452  3               3              \n",
       "AAAGTCCTCGGAACTT.1 D0       4.366534  3               3              \n",
       "                   anno.cluster\n",
       "AAACCCATCTTCGCTG.1 naive       \n",
       "AAACGCTAGACCTTTG.1 naive       \n",
       "AAACGCTTCACCTCGT.1 naive       \n",
       "AAAGAACTCCCTCTAG.1 naive       \n",
       "AAAGGATTCTCGCTCA.1 naive       \n",
       "AAAGGGCAGTTCCGGC.1 naive       \n",
       "AAAGGGCGTCATCTAG.1 naive       \n",
       "AAAGGTAAGGAACTCG.1 naive       \n",
       "AAAGGTAGTATCGGTT.1 naive       \n",
       "AAAGTCCTCGGAACTT.1 naive       "
      ]
     },
     "metadata": {},
     "output_type": "display_data"
    }
   ],
   "source": [
    "head(so)"
   ]
  },
  {
   "cell_type": "code",
   "execution_count": 21,
   "metadata": {},
   "outputs": [
    {
     "name": "stdout",
     "output_type": "stream",
     "text": [
      "Modularity Optimizer version 1.3.0 by Ludo Waltman and Nees Jan van Eck\n",
      "\n",
      "Number of nodes: 12978\n",
      "Number of edges: 417603\n",
      "\n",
      "Running Louvain algorithm...\n",
      "Maximum modularity in 10 random starts: 0.8656\n",
      "Number of communities: 14\n",
      "Elapsed time: 2 seconds\n"
     ]
    },
    {
     "name": "stderr",
     "output_type": "stream",
     "text": [
      "Calculating cluster 0\n",
      "\n",
      "Calculating cluster 1\n",
      "\n",
      "Calculating cluster 2\n",
      "\n",
      "Calculating cluster 3\n",
      "\n",
      "Calculating cluster 4\n",
      "\n",
      "Calculating cluster 5\n",
      "\n",
      "Calculating cluster 6\n",
      "\n",
      "Calculating cluster 7\n",
      "\n",
      "Calculating cluster 8\n",
      "\n",
      "Calculating cluster 9\n",
      "\n",
      "Calculating cluster 10\n",
      "\n",
      "Calculating cluster 11\n",
      "\n",
      "Calculating cluster 12\n",
      "\n",
      "Calculating cluster 13\n",
      "\n"
     ]
    }
   ],
   "source": [
    "so <- FindClusters(so, resolution = 0.8)\n",
    "markers_res0.8 <- FindAllMarkers(object = so, only.pos = TRUE, min.pct = 0.25, logfc.threshold = 0.25)\n",
    "#save the markers for later\n",
    "saveRDS(markers_res0.8, file = \"/lustre1/project/stg_00041/XuanAi/Timecourse_Naive_TSCs/Loom/tc_naive2TSC_EXMC_markers_cluster_res0.8.rds.gz\", compress = \"gzip\")"
   ]
  },
  {
   "cell_type": "code",
   "execution_count": 22,
   "metadata": {},
   "outputs": [
    {
     "name": "stdout",
     "output_type": "stream",
     "text": [
      "Modularity Optimizer version 1.3.0 by Ludo Waltman and Nees Jan van Eck\n",
      "\n",
      "Number of nodes: 12978\n",
      "Number of edges: 417603\n",
      "\n",
      "Running Louvain algorithm...\n",
      "Maximum modularity in 10 random starts: 0.8319\n",
      "Number of communities: 17\n",
      "Elapsed time: 1 seconds\n"
     ]
    },
    {
     "name": "stderr",
     "output_type": "stream",
     "text": [
      "Calculating cluster 0\n",
      "\n",
      "Calculating cluster 1\n",
      "\n",
      "Calculating cluster 2\n",
      "\n",
      "Calculating cluster 3\n",
      "\n",
      "Calculating cluster 4\n",
      "\n",
      "Calculating cluster 5\n",
      "\n",
      "Calculating cluster 6\n",
      "\n",
      "Calculating cluster 7\n",
      "\n",
      "Calculating cluster 8\n",
      "\n",
      "Calculating cluster 9\n",
      "\n",
      "Calculating cluster 10\n",
      "\n",
      "Calculating cluster 11\n",
      "\n",
      "Calculating cluster 12\n",
      "\n",
      "Calculating cluster 13\n",
      "\n",
      "Calculating cluster 14\n",
      "\n",
      "Calculating cluster 15\n",
      "\n",
      "Calculating cluster 16\n",
      "\n"
     ]
    }
   ],
   "source": [
    "so <- FindClusters(so, resolution = 1.2)\n",
    "markers_res1.2 <- FindAllMarkers(object = so, only.pos = TRUE, min.pct = 0.25, logfc.threshold = 0.25)\n",
    "saveRDS(markers_res1.2, file = \"/lustre1/project/stg_00041/XuanAi/Timecourse_Naive_TSCs/Loom/tc_naive2TSC_EXMC_markers_cluster_res1.2.rds.gz\", compress = \"gzip\")"
   ]
  },
  {
   "cell_type": "code",
   "execution_count": 28,
   "metadata": {},
   "outputs": [
    {
     "name": "stdout",
     "output_type": "stream",
     "text": [
      "[1] \"Adding global attributes...\"\n",
      "[1] \"Adding matrix...\"\n",
      "  |======================================================================| 100%[1] \"Adding column attributes...\"\n",
      "[1] \"Adding default metrics nUMI...\"\n",
      "[1] \"Adding default metrics nGene...\"\n",
      "[1] \"Adding default embedding...\"\n",
      "[1] \"Adding row attributes...\"\n",
      "[1] \"Adding columns graphs...\"\n",
      "[1] \"Adding row graphs...\"\n",
      "[1] \"Adding layers...\"\n"
     ]
    }
   ],
   "source": [
    "loom<- build_loom(file.name = \"tc_naive2TSC_EXMC_seurat_obj.loom\", \n",
    "                        dgem = so$RNA@counts, \n",
    "                        title = \"tc_naive2TSC_EXMC\",\n",
    "                        genome = \"Human\",\n",
    "                        default.embedding = so@reductions$umap@cell.embeddings,\n",
    "                        default.embedding.name = \"UMAP on variable genes\")"
   ]
  },
  {
   "cell_type": "code",
   "execution_count": 29,
   "metadata": {},
   "outputs": [
    {
     "name": "stdout",
     "output_type": "stream",
     "text": [
      "[1] \"Seurat, RNA_snn_res.0.2\"\n",
      "[1] \"Adding Seurat clusters...\"\n",
      "[1] \"Clusterings created...\"\n",
      "[1] \"Clustering ID: 0\"\n",
      "[1] \"Adding Seurat markers...\"\n"
     ]
    },
    {
     "name": "stderr",
     "output_type": "stream",
     "text": [
      "Warning message in add_seurat_clustering(loom, seurat = so, seurat.assay = \"RNA\", :\n",
      "“Seurat markers for clustering resolution 0.2 have not been computed.”\n"
     ]
    }
   ],
   "source": [
    "marker_file_list <- list(\n",
    "    RNA_snn_res.0.8 = \"/lustre1/project/stg_00041/XuanAi/Timecourse_Naive_TSCs/Loom/tc_naive2TSC_EXMC_markers_cluster_res0.8.rds.gz\",\n",
    "    RNA_snn_res.1.2 =  \"/lustre1/project/stg_00041/XuanAi/Timecourse_Naive_TSCs/Loom/tc_naive2TSC_EXMC_markers_cluster_res1.2.rds.gz\")\n",
    "\n",
    "add_seurat_clustering(loom, \n",
    "                      seurat = so,\n",
    "                      seurat.assay = \"RNA\",\n",
    "                      default.clustering.resolution = 0.8,\n",
    "                      seurat.clustering.prefix = \"RNA_snn_res.\",\n",
    "                      seurat.markers.file.path.list = marker_file_list)"
   ]
  },
  {
   "cell_type": "code",
   "execution_count": 30,
   "metadata": {},
   "outputs": [],
   "source": [
    "finalize(loom)"
   ]
  },
  {
   "cell_type": "code",
   "execution_count": null,
   "metadata": {},
   "outputs": [],
   "source": []
  }
 ],
 "metadata": {
  "kernelspec": {
   "display_name": "R4",
   "language": "R",
   "name": "irkernel_r4"
  },
  "language_info": {
   "codemirror_mode": "r",
   "file_extension": ".r",
   "mimetype": "text/x-r-source",
   "name": "R",
   "pygments_lexer": "r",
   "version": "4.1.0"
  }
 },
 "nbformat": 4,
 "nbformat_minor": 4
}
