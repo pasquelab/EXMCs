{
 "cells": [
  {
   "cell_type": "code",
   "execution_count": null,
   "metadata": {},
   "outputs": [],
   "source": []
  },
  {
   "cell_type": "markdown",
   "metadata": {},
   "source": [
    "Set working directory"
   ]
  },
  {
   "cell_type": "code",
   "execution_count": 1,
   "metadata": {},
   "outputs": [],
   "source": [
    "setwd(\"/lustre1/project/stg_00041/XuanAi/EXMC_2021_2022/Archive/timecourse_naive2TSCs_EXMCs\")"
   ]
  },
  {
   "cell_type": "markdown",
   "metadata": {},
   "source": [
    "Libraries"
   ]
  },
  {
   "cell_type": "code",
   "execution_count": 2,
   "metadata": {},
   "outputs": [
    {
     "name": "stderr",
     "output_type": "stream",
     "text": [
      "Warning message:\n",
      "“package ‘Seurat’ was built under R version 4.1.2”\n",
      "Attaching SeuratObject\n",
      "\n",
      "\n",
      "Attaching package: ‘dplyr’\n",
      "\n",
      "\n",
      "The following objects are masked from ‘package:stats’:\n",
      "\n",
      "    filter, lag\n",
      "\n",
      "\n",
      "The following objects are masked from ‘package:base’:\n",
      "\n",
      "    intersect, setdiff, setequal, union\n",
      "\n",
      "\n",
      "Warning message:\n",
      "“‘timedatectl’ indicates the non-existent timezone name ‘n/a’”\n",
      "Warning message:\n",
      "“Your system is mis-configured: ‘/etc/localtime’ is not a symlink”\n",
      "Warning message:\n",
      "“It is strongly recommended to set envionment variable TZ to ‘Europe/Brussels’ (or equivalent)”\n",
      "── \u001b[1mAttaching packages\u001b[22m ─────────────────────────────────────── tidyverse 1.3.1 ──\n",
      "\n",
      "\u001b[32m✔\u001b[39m \u001b[34mggplot2\u001b[39m 3.3.6     \u001b[32m✔\u001b[39m \u001b[34mpurrr  \u001b[39m 0.3.4\n",
      "\u001b[32m✔\u001b[39m \u001b[34mtibble \u001b[39m 3.1.6     \u001b[32m✔\u001b[39m \u001b[34mstringr\u001b[39m 1.4.0\n",
      "\u001b[32m✔\u001b[39m \u001b[34mtidyr  \u001b[39m 1.2.0     \u001b[32m✔\u001b[39m \u001b[34mforcats\u001b[39m 0.5.1\n",
      "\u001b[32m✔\u001b[39m \u001b[34mreadr  \u001b[39m 2.1.2     \n",
      "\n",
      "Warning message:\n",
      "“package ‘tibble’ was built under R version 4.1.1”\n",
      "── \u001b[1mConflicts\u001b[22m ────────────────────────────────────────── tidyverse_conflicts() ──\n",
      "\u001b[31m✖\u001b[39m \u001b[34mdplyr\u001b[39m::\u001b[32mfilter()\u001b[39m masks \u001b[34mstats\u001b[39m::filter()\n",
      "\u001b[31m✖\u001b[39m \u001b[34mdplyr\u001b[39m::\u001b[32mlag()\u001b[39m    masks \u001b[34mstats\u001b[39m::lag()\n",
      "\n"
     ]
    }
   ],
   "source": [
    "library(Seurat)\n",
    "library(dplyr)\n",
    "library(tidyverse)"
   ]
  },
  {
   "cell_type": "code",
   "execution_count": 3,
   "metadata": {},
   "outputs": [],
   "source": [
    "library(tibble)\n",
    "#library(SeuratData)"
   ]
  },
  {
   "cell_type": "code",
   "execution_count": 4,
   "metadata": {},
   "outputs": [],
   "source": [
    "library(ggplot2)\n",
    "library(cowplot)"
   ]
  },
  {
   "cell_type": "code",
   "execution_count": 5,
   "metadata": {},
   "outputs": [
    {
     "name": "stderr",
     "output_type": "stream",
     "text": [
      "\n",
      "Attaching package: ‘SCopeLoomR’\n",
      "\n",
      "\n",
      "The following object is masked from ‘package:base’:\n",
      "\n",
      "    flush\n",
      "\n",
      "\n"
     ]
    }
   ],
   "source": [
    "library(SCopeLoomR)"
   ]
  },
  {
   "cell_type": "code",
   "execution_count": 6,
   "metadata": {},
   "outputs": [],
   "source": [
    "Colourblind_palette <- c( \"#E69F00\" , \"#56B4E9\" , \"#009E73\" , \"#F0E442\" , \"#0072B2\" , \"#D55E00\" , \"#CC79A7\" , \"#000000\" )"
   ]
  },
  {
   "cell_type": "code",
   "execution_count": 7,
   "metadata": {},
   "outputs": [],
   "source": [
    "so_xiang_Messmer_Pet_Zhou_Tyser_VP1_VPtc_PrE<- readRDS(\"/lustre1/project/stg_00041/XuanAi/Timecourse_Naive_TSCs/so_xiang_Messmer_Pet_Zhou_Tyser_VP1_VPtc_PrE_loom_20220520.rds\")"
   ]
  },
  {
   "cell_type": "code",
   "execution_count": 8,
   "metadata": {},
   "outputs": [],
   "source": [
    "Idents(so_xiang_Messmer_Pet_Zhou_Tyser_VP1_VPtc_PrE)<- so_xiang_Messmer_Pet_Zhou_Tyser_VP1_VPtc_PrE$Experiment"
   ]
  },
  {
   "cell_type": "code",
   "execution_count": 9,
   "metadata": {},
   "outputs": [
    {
     "data": {
      "text/plain": [
       "\n",
       "  Messmer NACL_RACL       Pet     tc_XA     Tyser        VP     xiang      Zhou \n",
       "      905       668      1526     12977      1195       628       557      5895 "
      ]
     },
     "metadata": {},
     "output_type": "display_data"
    }
   ],
   "source": [
    "table(so_xiang_Messmer_Pet_Zhou_Tyser_VP1_VPtc_PrE$Experiment)"
   ]
  },
  {
   "cell_type": "code",
   "execution_count": 10,
   "metadata": {},
   "outputs": [],
   "source": [
    "so_xiang_Messmer_Pet_Zhou_Tyser_VP1_VPtc<- subset(so_xiang_Messmer_Pet_Zhou_Tyser_VP1_VPtc_PrE, idents= c(\"Messmer\", \"Pet\", \"tc_XA\", \"Tyser\", \"VP\", \"xiang\", \"Zhou\"))"
   ]
  },
  {
   "cell_type": "code",
   "execution_count": 12,
   "metadata": {},
   "outputs": [],
   "source": [
    "so_xiang_Messmer_Pet_Zhou_Tyser_VP1_VPtc <- NormalizeData(so_xiang_Messmer_Pet_Zhou_Tyser_VP1_VPtc, normalization.method = \"LogNormalize\", scale.factor = 10000)"
   ]
  },
  {
   "cell_type": "code",
   "execution_count": 13,
   "metadata": {},
   "outputs": [
    {
     "name": "stderr",
     "output_type": "stream",
     "text": [
      "Centering and scaling data matrix\n",
      "\n"
     ]
    }
   ],
   "source": [
    "all.genes <- rownames(so_xiang_Messmer_Pet_Zhou_Tyser_VP1_VPtc)\n",
    "so_xiang_Messmer_Pet_Zhou_Tyser_VP1_VPtc <- ScaleData(so_xiang_Messmer_Pet_Zhou_Tyser_VP1_VPtc, features = all.genes)"
   ]
  },
  {
   "cell_type": "code",
   "execution_count": 16,
   "metadata": {},
   "outputs": [],
   "source": [
    "so_xiang_Messmer_Pet_Zhou_Tyser_VP1_VPtc <- FindVariableFeatures(so_xiang_Messmer_Pet_Zhou_Tyser_VP1_VPtc, selection.method = \"vst\", nfeatures = 2000)"
   ]
  },
  {
   "cell_type": "code",
   "execution_count": 20,
   "metadata": {
    "collapsed": true,
    "jupyter": {
     "outputs_hidden": true
    },
    "tags": []
   },
   "outputs": [
    {
     "name": "stderr",
     "output_type": "stream",
     "text": [
      "PC_ 1 \n",
      "Positive:  NLRP7, DPPA5, KHDC1L, POU5F1, KHDC3L, NLRP2, ALPG, ASRGL1, L1TD1, UTF1 \n",
      "\t   REST, TUBB4A, RPS29, TCEA1, RPL36A, DPPA4, SOX4, TDGF1, TOMM7, CRIP1 \n",
      "\t   RPL37A, ATG3, ZNF208, RPL37, USP28, RPL39, MT1X, GLDC, RPL38, SLIRP \n",
      "Negative:  COL3A1, VIM, LUM, FN1, COL4A1, MARCKS, COL5A2, CD99, PITX1, H19 \n",
      "\t   DCN, SH3BGRL3, ANXA1, HGF, COL1A1, COL6A3, COL4A2, MME, CXCL14, S100A10 \n",
      "\t   B2M, CALD1, CD63, TGFBI, TIMP1, TPM2, EID1, KRT8, CD44, LGALS1 \n",
      "PC_ 2 \n",
      "Positive:  HAPLN1, CLEC1B, MMP1, TAC3, HAND1, RSPO2, EBPL, CSRP2, PRSS35, AQP1 \n",
      "\t   RBP1, PDPN, PON2, EFNB2, STXBP6, SNAI2, KRT19, PCP4, TMEM88, CTSL \n",
      "\t   TMEM98, CREB3L1, HAS2, PODXL, RAMP1, DDIT4, CRB2, FBN2, SLC9A3R1, MMP28 \n",
      "Negative:  IGFBP5, SDC2, ACTG2, IGFBP7, TXNRD1, THBS1, SLC10A4, PTGIS, MYH9, PTX3 \n",
      "\t   ADGRG6, ALDH1A1, NPPB, ANKRD1, CCDC3, FAT1, CPE, CRIM1, STC2, NR1H4 \n",
      "\t   PARM1, ENC1, CCL2, DST, SAMD5, COL11A1, ID3, GFRA1, SPTBN1, CYTL1 \n",
      "PC_ 3 \n",
      "Positive:  MEG3, COL14A1, HGF, TFPI2, POSTN, IGFBP7, GYPC, MEG8, SLC10A4, GNG11 \n",
      "\t   DCN, FBN1, COL1A1, IGFBP5, PAPSS2, CLDN11, THY1, CXCL14, ACTG2, CD320 \n",
      "\t   DIPK2A, PROK1, TCF21, FGF7, MT1G, LXN, COLEC10, POU5F1, GFRA1, PTGIS \n",
      "Negative:  KRT7, PTN, LRP2, CLDN4, UCA1, SPP1, MIR205HG, TINAGL1, ITGA2, ACTC1 \n",
      "\t   GATA3, RGS16, WNT6, GATA2, TACSTD2, ITGB4, ABCG2, SH3KBP1, ADGRL3, NKAIN4 \n",
      "\t   PERP, TNFRSF21, KANK4, VGLL1, CD24, ADGRG1, P2RY6, GPR37, FYB1, WNT5A \n",
      "PC_ 4 \n",
      "Positive:  CCPG1, RPS27, ZNF483, IFI16, SLC7A8, PHLDA1, CRYBA4, RPS21, BST2, GDF15 \n",
      "\t   CHEK2, PRPSAP1, RPL39, SFRP2, RPL37, S100A11, RPS28, SPRY2, TXNIP, RPL37A \n",
      "\t   DMD, FAM234A, DCLK1, PGM2L1, LIN28A, PIFO, GABARAPL1, SEPTIN6, F3, SAT1 \n",
      "Negative:  MT1H, MT1E, MT1M, MT1F, MT1G, MT2A, LEFTY2, ODC1, PRAP1, KLF4 \n",
      "\t   HRK, HMGB2, TMEM150C, FABP5, RHOB, KLF2, SPIC, STMN1, MXRA5, RRAD \n",
      "\t   USP13, OAT, TET2, GREM2, H2AZ1, SCGB3A2, CD320, MT1X, TAGLN2, ATP8B2 \n",
      "PC_ 5 \n",
      "Positive:  MALAT1, UACA, AHNAK, CENPF, NEAT1, ASPM, SNHG14, MKI67, KNL1, SLC9A3R1 \n",
      "\t   RSPO2, EFNB2, EZR, MT-ND3, PODXL, ANLN, MEG3, PLOD2, MT-ND2, MEG8 \n",
      "\t   PRSS35, CCDC144A, AQP1, FLT1, TPX2, KCNQ1OT1, DSP, SPTBN1, PLEC, DST \n",
      "Negative:  FTH1, KRT7, PRDX1, SDC2, SLC10A4, IGFBP5, PLAAT3, ID3, FTL, IGFBP7 \n",
      "\t   HOPX, TCF21, VGLL1, XAGE2, UCA1, CLIC3, TUBB3, COL11A1, NR2F1, EMILIN1 \n",
      "\t   TFPI2, S100A11, DACH1, ADAMTS5, NCAM2, IGFBP2, CGA, PTGIS, PARM1, CDX1 \n",
      "\n"
     ]
    }
   ],
   "source": [
    "so_xiang_Messmer_Pet_Zhou_Tyser_VP1_VPtc <- RunPCA(so_xiang_Messmer_Pet_Zhou_Tyser_VP1_VPtc, features = VariableFeatures(object = so))"
   ]
  },
  {
   "cell_type": "code",
   "execution_count": 19,
   "metadata": {},
   "outputs": [
    {
     "name": "stderr",
     "output_type": "stream",
     "text": [
      "Computing nearest neighbor graph\n",
      "\n",
      "Computing SNN\n",
      "\n"
     ]
    }
   ],
   "source": [
    "so_xiang_Messmer_Pet_Zhou_Tyser_VP1_VPtc <- FindNeighbors(so, dims = 1:10)"
   ]
  },
  {
   "cell_type": "code",
   "execution_count": 21,
   "metadata": {},
   "outputs": [
    {
     "name": "stdout",
     "output_type": "stream",
     "text": [
      "Modularity Optimizer version 1.3.0 by Ludo Waltman and Nees Jan van Eck\n",
      "\n",
      "Number of nodes: 12978\n",
      "Number of edges: 417603\n",
      "\n",
      "Running Louvain algorithm...\n",
      "Maximum modularity in 10 random starts: 0.8656\n",
      "Number of communities: 14\n",
      "Elapsed time: 2 seconds\n"
     ]
    },
    {
     "name": "stderr",
     "output_type": "stream",
     "text": [
      "Calculating cluster 0\n",
      "\n",
      "Calculating cluster 1\n",
      "\n",
      "Calculating cluster 2\n",
      "\n",
      "Calculating cluster 3\n",
      "\n",
      "Calculating cluster 4\n",
      "\n",
      "Calculating cluster 5\n",
      "\n",
      "Calculating cluster 6\n",
      "\n",
      "Calculating cluster 7\n",
      "\n",
      "Calculating cluster 8\n",
      "\n",
      "Calculating cluster 9\n",
      "\n",
      "Calculating cluster 10\n",
      "\n",
      "Calculating cluster 11\n",
      "\n",
      "Calculating cluster 12\n",
      "\n",
      "Calculating cluster 13\n",
      "\n"
     ]
    }
   ],
   "source": [
    "so_xiang_Messmer_Pet_Zhou_Tyser_VP1_VPtc <- FindClusters(so_xiang_Messmer_Pet_Zhou_Tyser_VP1_VPtc, resolution = 0.8)\n",
    "markers_res0.8 <- FindAllMarkers(object = so_xiang_Messmer_Pet_Zhou_Tyser_VP1_VPtc, only.pos = TRUE, min.pct = 0.25, logfc.threshold = 0.25)\n",
    "#save the markers for later\n",
    "saveRDS(markers_res0.8, file = \"/lustre1/project/stg_00041/XuanAi/Timecourse_Naive_TSCs/Loom/xiang_Messmer_Pet_Zhou_Tyser_VP1_VPtc_markers_cluster_res0.8.rds.gz\", compress = \"gzip\")"
   ]
  },
  {
   "cell_type": "code",
   "execution_count": null,
   "metadata": {},
   "outputs": [
    {
     "name": "stdout",
     "output_type": "stream",
     "text": [
      "Modularity Optimizer version 1.3.0 by Ludo Waltman and Nees Jan van Eck\n",
      "\n",
      "Number of nodes: 12978\n",
      "Number of edges: 417603\n",
      "\n",
      "Running Louvain algorithm...\n",
      "Maximum modularity in 10 random starts: 0.8319\n",
      "Number of communities: 17\n",
      "Elapsed time: 1 seconds\n"
     ]
    },
    {
     "name": "stderr",
     "output_type": "stream",
     "text": [
      "Calculating cluster 0\n",
      "\n",
      "Calculating cluster 1\n",
      "\n"
     ]
    }
   ],
   "source": [
    "so_xiang_Messmer_Pet_Zhou_Tyser_VP1_VPtc <- FindClusters(so_xiang_Messmer_Pet_Zhou_Tyser_VP1_VPtc, resolution = 1.2)\n",
    "markers_res1.2 <- FindAllMarkers(object = so_xiang_Messmer_Pet_Zhou_Tyser_VP1_VPtc, only.pos = TRUE, min.pct = 0.25, logfc.threshold = 0.25)\n",
    "saveRDS(markers_res1.2, file = \"/lustre1/project/stg_00041/XuanAi/Timecourse_Naive_TSCs/Loom/xiang_Messmer_Pet_Zhou_Tyser_VP1_VPtc_markers_cluster_res1.2.rds.gz\", compress = \"gzip\")"
   ]
  },
  {
   "cell_type": "code",
   "execution_count": null,
   "metadata": {},
   "outputs": [],
   "source": [
    "loom<- build_loom(file.name = \"xiang_Messmer_Pet_Zhou_Tyser_VP1_VPtc_seurat_obj.loom\", \n",
    "                        dgem = so$RNA@counts, \n",
    "                        title = \"xiang_Messmer_Pet_Zhou_Tyser_VP1_VPtc\",\n",
    "                        genome = \"Human\",\n",
    "                        default.embedding = so@reductions$umap@cell.embeddings,\n",
    "                        default.embedding.name = \"UMAP on variable genes\")"
   ]
  },
  {
   "cell_type": "code",
   "execution_count": null,
   "metadata": {},
   "outputs": [],
   "source": [
    "marker_file_list <- list(\n",
    "    RNA_snn_res.0.8 = \"/lustre1/project/stg_00041/XuanAi/Timecourse_Naive_TSCs/Loom/xiang_Messmer_Pet_Zhou_Tyser_VP1_VPtc_markers_cluster_res0.8.rds.gz\",\n",
    "    RNA_snn_res.1.2 =  \"/lustre1/project/stg_00041/XuanAi/Timecourse_Naive_TSCs/Loom/xiang_Messmer_Pet_Zhou_Tyser_VP1_VPtc_markers_cluster_res1.2.rds.gz\")\n",
    "\n",
    "add_seurat_clustering(loom, \n",
    "                      seurat = so,\n",
    "                      seurat.assay = \"RNA\",\n",
    "                      default.clustering.resolution = 0.8,\n",
    "                      seurat.clustering.prefix = \"RNA_snn_res.\",\n",
    "                      seurat.markers.file.path.list = marker_file_list)"
   ]
  },
  {
   "cell_type": "code",
   "execution_count": null,
   "metadata": {},
   "outputs": [],
   "source": [
    "finalize(loom)"
   ]
  },
  {
   "cell_type": "code",
   "execution_count": null,
   "metadata": {},
   "outputs": [],
   "source": []
  },
  {
   "cell_type": "code",
   "execution_count": null,
   "metadata": {},
   "outputs": [],
   "source": []
  },
  {
   "cell_type": "code",
   "execution_count": null,
   "metadata": {},
   "outputs": [],
   "source": []
  },
  {
   "cell_type": "code",
   "execution_count": null,
   "metadata": {},
   "outputs": [],
   "source": []
  },
  {
   "cell_type": "code",
   "execution_count": null,
   "metadata": {},
   "outputs": [],
   "source": []
  },
  {
   "cell_type": "code",
   "execution_count": null,
   "metadata": {},
   "outputs": [],
   "source": []
  },
  {
   "cell_type": "code",
   "execution_count": null,
   "metadata": {},
   "outputs": [],
   "source": []
  },
  {
   "cell_type": "code",
   "execution_count": 11,
   "metadata": {},
   "outputs": [],
   "source": [
    "Idents(so_xiang_Messmer_Pet_Zhou_Tyser_VP1_VPtc_PrE)<- so_xiang_Messmer_Pet_Zhou_Tyser_VP1_VPtc_PrE$Day.finalClusters"
   ]
  },
  {
   "cell_type": "code",
   "execution_count": 12,
   "metadata": {},
   "outputs": [
    {
     "data": {
      "text/plain": [
       "\n",
       "  Messmer NACL_RACL       Pet     tc_XA     Tyser        VP     xiang      Zhou \n",
       "      905       668      1526     12977      1195       628       557      5895 "
      ]
     },
     "metadata": {},
     "output_type": "display_data"
    }
   ],
   "source": [
    "table(so_xiang_Messmer_Pet_Zhou_Tyser_VP1_VPtc_PrE$Experiment)"
   ]
  },
  {
   "cell_type": "code",
   "execution_count": 12,
   "metadata": {},
   "outputs": [
    {
     "data": {
      "text/html": [
       "<table>\n",
       "<thead><tr><th></th><th scope=col>UMAP_1</th><th scope=col>UMAP_2</th></tr></thead>\n",
       "<tbody>\n",
       "\t<tr><th scope=row>D10_IVC4_E1_B1_10</th><td> 3.1040035</td><td> 9.940548 </td></tr>\n",
       "\t<tr><th scope=row>D10_IVC4_E1_B1_11</th><td> 0.5425898</td><td>11.161224 </td></tr>\n",
       "\t<tr><th scope=row>D10_IVC4_E1_B1_12</th><td> 2.8160262</td><td>10.191075 </td></tr>\n",
       "\t<tr><th scope=row>D10_IVC4_E1_B1_13</th><td>-1.1084435</td><td>11.699240 </td></tr>\n",
       "\t<tr><th scope=row>D10_IVC4_E1_B1_14</th><td>-0.6167142</td><td>11.040862 </td></tr>\n",
       "\t<tr><th scope=row>D10_IVC4_E1_B1_15</th><td>-0.5670270</td><td>11.137415 </td></tr>\n",
       "</tbody>\n",
       "</table>\n"
      ],
      "text/latex": [
       "\\begin{tabular}{r|ll}\n",
       "  & UMAP\\_1 & UMAP\\_2\\\\\n",
       "\\hline\n",
       "\tD10\\_IVC4\\_E1\\_B1\\_10 &  3.1040035 &  9.940548 \\\\\n",
       "\tD10\\_IVC4\\_E1\\_B1\\_11 &  0.5425898 & 11.161224 \\\\\n",
       "\tD10\\_IVC4\\_E1\\_B1\\_12 &  2.8160262 & 10.191075 \\\\\n",
       "\tD10\\_IVC4\\_E1\\_B1\\_13 & -1.1084435 & 11.699240 \\\\\n",
       "\tD10\\_IVC4\\_E1\\_B1\\_14 & -0.6167142 & 11.040862 \\\\\n",
       "\tD10\\_IVC4\\_E1\\_B1\\_15 & -0.5670270 & 11.137415 \\\\\n",
       "\\end{tabular}\n"
      ],
      "text/markdown": [
       "\n",
       "| <!--/--> | UMAP_1 | UMAP_2 |\n",
       "|---|---|---|\n",
       "| D10_IVC4_E1_B1_10 |  3.1040035 |  9.940548  |\n",
       "| D10_IVC4_E1_B1_11 |  0.5425898 | 11.161224  |\n",
       "| D10_IVC4_E1_B1_12 |  2.8160262 | 10.191075  |\n",
       "| D10_IVC4_E1_B1_13 | -1.1084435 | 11.699240  |\n",
       "| D10_IVC4_E1_B1_14 | -0.6167142 | 11.040862  |\n",
       "| D10_IVC4_E1_B1_15 | -0.5670270 | 11.137415  |\n",
       "\n"
      ],
      "text/plain": [
       "                  UMAP_1     UMAP_2   \n",
       "D10_IVC4_E1_B1_10  3.1040035  9.940548\n",
       "D10_IVC4_E1_B1_11  0.5425898 11.161224\n",
       "D10_IVC4_E1_B1_12  2.8160262 10.191075\n",
       "D10_IVC4_E1_B1_13 -1.1084435 11.699240\n",
       "D10_IVC4_E1_B1_14 -0.6167142 11.040862\n",
       "D10_IVC4_E1_B1_15 -0.5670270 11.137415"
      ]
     },
     "metadata": {},
     "output_type": "display_data"
    }
   ],
   "source": [
    "head(so_xiang_Messmer_Pet_Zhou_Tyser_VP1_VPtc_PrE@reductions$umap@cell.embeddings)"
   ]
  },
  {
   "cell_type": "code",
   "execution_count": 10,
   "metadata": {},
   "outputs": [],
   "source": [
    "#so_xiang_Messmer_Pet_Zhou_Tyser_VP1_VPtc_PrE <- FindClusters(so_xiang_Messmer_Pet_Zhou_Tyser_VP1_VPtc_PrE, resolution = 0.8)"
   ]
  },
  {
   "cell_type": "code",
   "execution_count": 13,
   "metadata": {},
   "outputs": [
    {
     "name": "stderr",
     "output_type": "stream",
     "text": [
      "Calculating cluster TB.medium2\n",
      "\n",
      "Calculating cluster unknown\n",
      "\n",
      "Calculating cluster TB.late\n",
      "\n",
      "Calculating cluster Pre.ST\n",
      "\n",
      "Calculating cluster TB.medium3\n",
      "\n",
      "Calculating cluster PrE\n",
      "\n",
      "Calculating cluster Pre.EVT\n",
      "\n",
      "Calculating cluster D10.Epiblast\n",
      "\n",
      "Calculating cluster ST\n",
      "\n",
      "Calculating cluster EVT\n",
      "\n",
      "Calculating cluster ysTE\n",
      "\n",
      "Calculating cluster D12.Epiblast\n",
      "\n",
      "Calculating cluster early_TE\n",
      "\n",
      "Calculating cluster D6.Epiblast\n",
      "\n",
      "Calculating cluster medium_TE\n",
      "\n",
      "Calculating cluster TB.medium1\n",
      "\n",
      "Calculating cluster TB.early\n",
      "\n",
      "Calculating cluster D8.Epiblast\n",
      "\n",
      "Calculating cluster B1_B2\n",
      "\n",
      "Calculating cluster TB.apoptosis\n",
      "\n",
      "Calculating cluster late_TE\n",
      "\n",
      "Calculating cluster naive\n",
      "\n",
      "Calculating cluster primed\n",
      "\n",
      "Calculating cluster EightCells\n",
      "\n",
      "Calculating cluster Morula\n",
      "\n",
      "Calculating cluster D5.Epiblast\n",
      "\n",
      "Calculating cluster D7.Epiblast\n",
      "\n",
      "Calculating cluster primed_1\n",
      "\n",
      "Calculating cluster TSC_VP\n",
      "\n",
      "Calculating cluster undefined_VP\n",
      "\n",
      "Calculating cluster naive_VP\n",
      "\n",
      "Calculating cluster Hemogenic Endothelial Progenitors\n",
      "\n",
      "Calculating cluster Endoderm\n",
      "\n",
      "Calculating cluster Advanced Mesoderm\n",
      "\n",
      "Calculating cluster Primitive Streak\n",
      "\n",
      "Calculating cluster YS Mesoderm\n",
      "\n",
      "Calculating cluster Axial Mesoderm\n",
      "\n",
      "Calculating cluster Erythrocytes\n",
      "\n",
      "Calculating cluster Emergent Mesoderm\n",
      "\n",
      "Calculating cluster CS7.Epiblast\n",
      "\n",
      "Calculating cluster Nascent Mesoderm\n",
      "\n",
      "Calculating cluster Ectoderm\n",
      "\n",
      "Calculating cluster CTB\n",
      "\n",
      "Calculating cluster PrE derived\n",
      "\n",
      "Calculating cluster Ambiguous\n",
      "\n",
      "Calculating cluster PSA-EPI\n",
      "\n",
      "Calculating cluster D14.Epiblast\n",
      "\n",
      "Calculating cluster PrE derived (EXMC)\n",
      "\n",
      "Calculating cluster D9.Epiblast\n",
      "\n",
      "Calculating cluster naive_tc\n",
      "\n",
      "Calculating cluster ASECRIAV.unknown.2\n",
      "\n",
      "Calculating cluster 8CLC\n",
      "\n",
      "Calculating cluster TSC_tc\n",
      "\n",
      "Calculating cluster ASECRIAV.unknown.3\n",
      "\n",
      "Calculating cluster ASECRIAV.unknown.1\n",
      "\n",
      "Calculating cluster D8.early.EXMC\n",
      "\n",
      "Calculating cluster D13.early.EXMC\n",
      "\n",
      "Calculating cluster D18.early.EXMC\n",
      "\n",
      "Calculating cluster D70.EXMC\n",
      "\n",
      "Calculating cluster cluster2.RACL\n",
      "\n",
      "Calculating cluster cluster1.RACL\n",
      "\n",
      "Calculating cluster cluster0.RACL\n",
      "\n",
      "Calculating cluster cluster3.RACL\n",
      "\n",
      "Calculating cluster cluster4.RACL\n",
      "\n",
      "Calculating cluster cluster5.NACL\n",
      "\n",
      "Calculating cluster cluster0.NACL\n",
      "\n"
     ]
    }
   ],
   "source": [
    "markers_res0.8 <- FindAllMarkers(object = so_xiang_Messmer_Pet_Zhou_Tyser_VP1_VPtc_PrE, only.pos = TRUE, min.pct = 0.25, logfc.threshold = 0.25)\n",
    "#save the markers for later\n",
    "saveRDS(markers_res0.8, file = \"/lustre1/project/stg_00041/XuanAi/Timecourse_Naive_TSCs/Loom/xiang_Messmer_Pet_Zhou_Tyser_VP1_VPtc_PrE_markers_cluster_res0.8.rds.gz\", compress = \"gzip\")"
   ]
  },
  {
   "cell_type": "code",
   "execution_count": 14,
   "metadata": {},
   "outputs": [
    {
     "ename": "ERROR",
     "evalue": "Error in FindClusters.Seurat(so_xiang_Messmer_Pet_Zhou_Tyser_VP1_VPtc_PrE, : Provided graph.name not present in Seurat object\n",
     "output_type": "error",
     "traceback": [
      "Error in FindClusters.Seurat(so_xiang_Messmer_Pet_Zhou_Tyser_VP1_VPtc_PrE, : Provided graph.name not present in Seurat object\nTraceback:\n",
      "1. FindClusters(so_xiang_Messmer_Pet_Zhou_Tyser_VP1_VPtc_PrE, resolution = 1.2)",
      "2. FindClusters.Seurat(so_xiang_Messmer_Pet_Zhou_Tyser_VP1_VPtc_PrE, \n .     resolution = 1.2)",
      "3. stop(\"Provided graph.name not present in Seurat object\")"
     ]
    }
   ],
   "source": [
    "so_xiang_Messmer_Pet_Zhou_Tyser_VP1_VPtc_PrE <- FindClusters(so_xiang_Messmer_Pet_Zhou_Tyser_VP1_VPtc_PrE, resolution = 1.2)\n",
    "markers_res1.2 <- FindAllMarkers(object = so_xiang_Messmer_Pet_Zhou_Tyser_VP1_VPtc_PrE, only.pos = TRUE, min.pct = 0.25, logfc.threshold = 0.25)\n",
    "saveRDS(markers_res1.2, file = \"/lustre1/project/stg_00041/XuanAi/Timecourse_Naive_TSCs/Loom/xiang_Messmer_Pet_Zhou_Tyser_VP1_VPtc_PrE_markers_cluster_res1.2.rds.gz\", compress = \"gzip\")"
   ]
  },
  {
   "cell_type": "code",
   "execution_count": 11,
   "metadata": {},
   "outputs": [
    {
     "name": "stdout",
     "output_type": "stream",
     "text": [
      "[1] \"Adding global attributes...\"\n",
      "[1] \"Adding matrix...\"\n",
      "  |======================================================================| 100%[1] \"Adding column attributes...\"\n"
     ]
    },
    {
     "name": "stderr",
     "output_type": "stream",
     "text": [
      "Warning message in doTryCatch(return(expr), name, parentenv, handler):\n",
      "“Default metric nUMI was not added because the input matrix does not seem to be the raw counts.”\n"
     ]
    },
    {
     "name": "stdout",
     "output_type": "stream",
     "text": [
      "[1] \"Adding default metrics nGene...\"\n",
      "[1] \"Adding default embedding...\"\n",
      "[1] \"Adding row attributes...\"\n",
      "[1] \"Adding columns graphs...\"\n",
      "[1] \"Adding row graphs...\"\n",
      "[1] \"Adding layers...\"\n"
     ]
    }
   ],
   "source": [
    "loom<- build_loom(file.name = \"xiang_Messmer_Pet_Zhou_Tyser_VP1_VPtc_PrE_seurat_obj.loom\", \n",
    "                        dgem = so_xiang_Messmer_Pet_Zhou_Tyser_VP1_VPtc_PrE$RNA@counts, \n",
    "                        title = \"Messmer_Pet_Zhou_Tyser_VP1_VPtc_PrE\",\n",
    "                        genome = \"Human\",\n",
    "                        default.embedding = so_xiang_Messmer_Pet_Zhou_Tyser_VP1_VPtc_PrE@reductions$umap@cell.embeddings,\n",
    "                        default.embedding.name = \"UMAP on variable genes\")"
   ]
  },
  {
   "cell_type": "code",
   "execution_count": 15,
   "metadata": {},
   "outputs": [],
   "source": [
    "#add_col_attr(MPV_loom, key = \"percent.mito\", \n",
    "#                 value = so_xiang_Messmer_Pet_Zhou_Tyser_VP1_VPtc_PrE@meta.data$percent.mt, \n",
    "#                 as.metric = T)"
   ]
  },
  {
   "cell_type": "code",
   "execution_count": 13,
   "metadata": {},
   "outputs": [],
   "source": [
    "add_col_attr(loom, key = \"Cell_Types\",\n",
    "                value = as.vector(so_xiang_Messmer_Pet_Zhou_Tyser_VP1_VPtc_PrE@meta.data$Day.finalClusters),\n",
    "                as.annotation = T)"
   ]
  },
  {
   "cell_type": "code",
   "execution_count": 14,
   "metadata": {},
   "outputs": [
    {
     "name": "stdout",
     "output_type": "stream",
     "text": [
      "[1] \"Seurat, RNA_snn_res.0.5\"\n",
      "[1] \"Adding Seurat clusters...\"\n",
      "[1] \"Clusterings created...\"\n"
     ]
    },
    {
     "ename": "ERROR",
     "evalue": "Error in if (nchar(x = d) > 0) {: argument is of length zero\n",
     "output_type": "error",
     "traceback": [
      "Error in if (nchar(x = d) > 0) {: argument is of length zero\nTraceback:\n",
      "1. add_seurat_clustering(loom, seurat = so_xiang_Messmer_Pet_Zhou_Tyser_VP1_VPtc_PrE, \n .     seurat.assay = \"RNA\", default.clustering.resolution = 0.8, \n .     seurat.clustering.prefix = \"RNA_snn_res.\", seurat.markers.file.path.list = marker_file_list)",
      "2. add_annotated_clustering(loom = loom, group = \"Seurat\", name = paste(\"Seurat,\", \n .     paste0(seurat.clustering.prefix, res)), clusters = cluster_ids, \n .     annotation = cluster_annotation, is.default = is_default_clustering, \n .     overwrite.default = default.clustering.overwrite)",
      "3. add_global_md_clustering(loom = loom, id = id, group = group, \n .     name = name, clusters = clusters_as_factor_ids, annotation = annotation)",
      "4. lapply(X = seq_along(along.with = unique.clusters), FUN = function(cluster.idx) {\n .     cluster.id <- unique.clusters[[cluster.idx]]\n .     if (is.numeric(x = cluster.id)) {\n .         description <- paste(\"NDA - Cluster\", cluster.id)\n .     }\n .     else if (is.character(x = cluster.id)) {\n .         cluster.id <- cluster.idx - 1\n .         description <- cluster.id\n .     }\n .     else {\n .         stop(\"Cluster labels are required to be of class character or numeric.\")\n .     }\n .     if (!is.null(x = annotation)) {\n .         annotation <- annotation[names(x = clusters)]\n .         d <- as.character(x = unique(x = annotation[clusters == \n .             cluster.id]))\n .         if (length(x = d) > 1) {\n .             stop(\"Annotation is not unique: multiple annotation correspond to a cluster ID.\")\n .         }\n .         if (nchar(x = d) > 0) {\n .             description <- paste0(d, \" (\", cluster.id, \")\")\n .         }\n .     }\n .     return(list(id = cluster.id, description = description))\n . })",
      "5. FUN(X[[i]], ...)"
     ]
    }
   ],
   "source": [
    "marker_file_list <- list(\n",
    "    RNA_snn_res.0.6 = \"/lustre1/project/stg_00041/XuanAi/Timecourse_Naive_TSCs/Loom/xiang_Messmer_Pet_Zhou_Tyser_VP1_VPtc_PrE_markers_cluster_res1.2.rds.gz\",\n",
    "    RNA_snn_res.0.2 =  \"/lustre1/project/stg_00041/XuanAi/Timecourse_Naive_TSCs/Loom/xiang_Messmer_Pet_Zhou_Tyser_VP1_VPtc_PrE_markers_cluster_res0.8.rds.gz\")\n",
    "\n",
    "add_seurat_clustering(loom, \n",
    "                      seurat = so_xiang_Messmer_Pet_Zhou_Tyser_VP1_VPtc_PrE,\n",
    "                      seurat.assay = \"RNA\",\n",
    "                      default.clustering.resolution = 0.8,\n",
    "                      seurat.clustering.prefix = \"RNA_snn_res.\",\n",
    "                      seurat.markers.file.path.list = marker_file_list)"
   ]
  },
  {
   "cell_type": "code",
   "execution_count": 18,
   "metadata": {},
   "outputs": [],
   "source": [
    "finalize(MPV_loom)"
   ]
  }
 ],
 "metadata": {
  "kernelspec": {
   "display_name": "R4",
   "language": "R",
   "name": "irkernel_r4"
  },
  "language_info": {
   "codemirror_mode": "r",
   "file_extension": ".r",
   "mimetype": "text/x-r-source",
   "name": "R",
   "pygments_lexer": "r",
   "version": "4.1.0"
  }
 },
 "nbformat": 4,
 "nbformat_minor": 4
}
