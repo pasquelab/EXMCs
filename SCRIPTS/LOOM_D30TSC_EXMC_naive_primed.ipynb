{
 "cells": [
  {
   "cell_type": "markdown",
   "metadata": {},
   "source": [
    "Set working directory"
   ]
  },
  {
   "cell_type": "code",
   "execution_count": 14,
   "metadata": {},
   "outputs": [],
   "source": [
    "setwd(\"/lustre1/project/stg_00041/XuanAi/EXMC_2021_2022/Archive/D30TSC_EXMC_naive_primed\")"
   ]
  },
  {
   "cell_type": "markdown",
   "metadata": {},
   "source": [
    "Libraries"
   ]
  },
  {
   "cell_type": "code",
   "execution_count": 2,
   "metadata": {},
   "outputs": [
    {
     "name": "stderr",
     "output_type": "stream",
     "text": [
      "Warning message:\n",
      "“package ‘Seurat’ was built under R version 4.1.2”\n",
      "Attaching SeuratObject\n",
      "\n",
      "\n",
      "Attaching package: ‘dplyr’\n",
      "\n",
      "\n",
      "The following objects are masked from ‘package:stats’:\n",
      "\n",
      "    filter, lag\n",
      "\n",
      "\n",
      "The following objects are masked from ‘package:base’:\n",
      "\n",
      "    intersect, setdiff, setequal, union\n",
      "\n",
      "\n",
      "Warning message:\n",
      "“‘timedatectl’ indicates the non-existent timezone name ‘n/a’”\n",
      "Warning message:\n",
      "“Your system is mis-configured: ‘/etc/localtime’ is not a symlink”\n",
      "Warning message:\n",
      "“It is strongly recommended to set envionment variable TZ to ‘Europe/Brussels’ (or equivalent)”\n",
      "── \u001b[1mAttaching packages\u001b[22m ─────────────────────────────────────── tidyverse 1.3.1 ──\n",
      "\n",
      "\u001b[32m✔\u001b[39m \u001b[34mggplot2\u001b[39m 3.3.6     \u001b[32m✔\u001b[39m \u001b[34mpurrr  \u001b[39m 0.3.4\n",
      "\u001b[32m✔\u001b[39m \u001b[34mtibble \u001b[39m 3.1.6     \u001b[32m✔\u001b[39m \u001b[34mstringr\u001b[39m 1.4.0\n",
      "\u001b[32m✔\u001b[39m \u001b[34mtidyr  \u001b[39m 1.2.0     \u001b[32m✔\u001b[39m \u001b[34mforcats\u001b[39m 0.5.1\n",
      "\u001b[32m✔\u001b[39m \u001b[34mreadr  \u001b[39m 2.1.2     \n",
      "\n",
      "Warning message:\n",
      "“package ‘tibble’ was built under R version 4.1.1”\n",
      "── \u001b[1mConflicts\u001b[22m ────────────────────────────────────────── tidyverse_conflicts() ──\n",
      "\u001b[31m✖\u001b[39m \u001b[34mdplyr\u001b[39m::\u001b[32mfilter()\u001b[39m masks \u001b[34mstats\u001b[39m::filter()\n",
      "\u001b[31m✖\u001b[39m \u001b[34mdplyr\u001b[39m::\u001b[32mlag()\u001b[39m    masks \u001b[34mstats\u001b[39m::lag()\n",
      "\n"
     ]
    }
   ],
   "source": [
    "library(Seurat)\n",
    "library(dplyr)\n",
    "library(tidyverse)"
   ]
  },
  {
   "cell_type": "code",
   "execution_count": 3,
   "metadata": {},
   "outputs": [],
   "source": [
    "library(tibble)\n",
    "#library(SeuratData)"
   ]
  },
  {
   "cell_type": "code",
   "execution_count": 4,
   "metadata": {},
   "outputs": [],
   "source": [
    "library(ggplot2)\n",
    "library(cowplot)"
   ]
  },
  {
   "cell_type": "code",
   "execution_count": 5,
   "metadata": {},
   "outputs": [
    {
     "name": "stderr",
     "output_type": "stream",
     "text": [
      "\n",
      "Attaching package: ‘SCopeLoomR’\n",
      "\n",
      "\n",
      "The following object is masked from ‘package:base’:\n",
      "\n",
      "    flush\n",
      "\n",
      "\n"
     ]
    }
   ],
   "source": [
    "library(SCopeLoomR)"
   ]
  },
  {
   "cell_type": "code",
   "execution_count": 6,
   "metadata": {},
   "outputs": [],
   "source": [
    "Colourblind_palette <- c( \"#E69F00\" , \"#56B4E9\" , \"#009E73\" , \"#F0E442\" , \"#0072B2\" , \"#D55E00\" , \"#CC79A7\" , \"#000000\" )"
   ]
  },
  {
   "cell_type": "code",
   "execution_count": 7,
   "metadata": {},
   "outputs": [],
   "source": [
    "so<- readRDS(\"/lustre1/project/stg_00041/XuanAi/EXMC_2021_2022/Archive/D30TSC_EXMC_naive_primed/so_naive_primed_TSC_VP.rds\")"
   ]
  },
  {
   "cell_type": "code",
   "execution_count": 8,
   "metadata": {},
   "outputs": [
    {
     "data": {
      "text/html": [
       "<table class=\"dataframe\">\n",
       "<caption>A data.frame: 10 × 7</caption>\n",
       "<thead>\n",
       "\t<tr><th></th><th scope=col>orig.ident</th><th scope=col>nCount_RNA</th><th scope=col>nFeature_RNA</th><th scope=col>percent.mt</th><th scope=col>RNA_snn_res.0.2</th><th scope=col>seurat_clusters</th><th scope=col>Cell.type</th></tr>\n",
       "\t<tr><th></th><th scope=col>&lt;fct&gt;</th><th scope=col>&lt;dbl&gt;</th><th scope=col>&lt;int&gt;</th><th scope=col>&lt;dbl&gt;</th><th scope=col>&lt;fct&gt;</th><th scope=col>&lt;fct&gt;</th><th scope=col>&lt;chr&gt;</th></tr>\n",
       "</thead>\n",
       "<tbody>\n",
       "\t<tr><th scope=row>AAACGCTAGGTCCTGC.1</th><td>naive_primed_TSCs_VP</td><td>38372</td><td>7121</td><td>14.148337</td><td>0</td><td>0</td><td>Primed</td></tr>\n",
       "\t<tr><th scope=row>AAAGAACCAACAGAGC.1</th><td>naive_primed_TSCs_VP</td><td>50804</td><td>7902</td><td>11.278639</td><td>0</td><td>0</td><td>Primed</td></tr>\n",
       "\t<tr><th scope=row>AAAGAACGTAGCCCTG.1</th><td>naive_primed_TSCs_VP</td><td>55443</td><td>7953</td><td>11.496492</td><td>0</td><td>0</td><td>Primed</td></tr>\n",
       "\t<tr><th scope=row>AAAGGATAGCTCGAAG.1</th><td>naive_primed_TSCs_VP</td><td>35159</td><td>6107</td><td>15.378708</td><td>4</td><td>4</td><td>TSC   </td></tr>\n",
       "\t<tr><th scope=row>AAAGGATCACAAATGA.1</th><td>naive_primed_TSCs_VP</td><td>23777</td><td>6107</td><td> 7.789040</td><td>2</td><td>2</td><td>Primed</td></tr>\n",
       "\t<tr><th scope=row>AAAGGTATCGGAACTT.1</th><td>naive_primed_TSCs_VP</td><td>15220</td><td>3848</td><td> 9.165572</td><td>1</td><td>1</td><td>EXMC  </td></tr>\n",
       "\t<tr><th scope=row>AAAGTCCAGAGAGAAC.1</th><td>naive_primed_TSCs_VP</td><td>46068</td><td>7552</td><td>11.999653</td><td>0</td><td>0</td><td>Primed</td></tr>\n",
       "\t<tr><th scope=row>AAAGTCCAGCGCTGCT.1</th><td>naive_primed_TSCs_VP</td><td>59757</td><td>8530</td><td> 9.868300</td><td>0</td><td>0</td><td>Primed</td></tr>\n",
       "\t<tr><th scope=row>AACAGGGGTACGAAAT.1</th><td>naive_primed_TSCs_VP</td><td>35092</td><td>7136</td><td> 8.788328</td><td>0</td><td>0</td><td>Primed</td></tr>\n",
       "\t<tr><th scope=row>AACCACAAGTTACGGG.1</th><td>naive_primed_TSCs_VP</td><td>20865</td><td>5074</td><td>22.870836</td><td>0</td><td>0</td><td>Primed</td></tr>\n",
       "</tbody>\n",
       "</table>\n"
      ],
      "text/latex": [
       "A data.frame: 10 × 7\n",
       "\\begin{tabular}{r|lllllll}\n",
       "  & orig.ident & nCount\\_RNA & nFeature\\_RNA & percent.mt & RNA\\_snn\\_res.0.2 & seurat\\_clusters & Cell.type\\\\\n",
       "  & <fct> & <dbl> & <int> & <dbl> & <fct> & <fct> & <chr>\\\\\n",
       "\\hline\n",
       "\tAAACGCTAGGTCCTGC.1 & naive\\_primed\\_TSCs\\_VP & 38372 & 7121 & 14.148337 & 0 & 0 & Primed\\\\\n",
       "\tAAAGAACCAACAGAGC.1 & naive\\_primed\\_TSCs\\_VP & 50804 & 7902 & 11.278639 & 0 & 0 & Primed\\\\\n",
       "\tAAAGAACGTAGCCCTG.1 & naive\\_primed\\_TSCs\\_VP & 55443 & 7953 & 11.496492 & 0 & 0 & Primed\\\\\n",
       "\tAAAGGATAGCTCGAAG.1 & naive\\_primed\\_TSCs\\_VP & 35159 & 6107 & 15.378708 & 4 & 4 & TSC   \\\\\n",
       "\tAAAGGATCACAAATGA.1 & naive\\_primed\\_TSCs\\_VP & 23777 & 6107 &  7.789040 & 2 & 2 & Primed\\\\\n",
       "\tAAAGGTATCGGAACTT.1 & naive\\_primed\\_TSCs\\_VP & 15220 & 3848 &  9.165572 & 1 & 1 & EXMC  \\\\\n",
       "\tAAAGTCCAGAGAGAAC.1 & naive\\_primed\\_TSCs\\_VP & 46068 & 7552 & 11.999653 & 0 & 0 & Primed\\\\\n",
       "\tAAAGTCCAGCGCTGCT.1 & naive\\_primed\\_TSCs\\_VP & 59757 & 8530 &  9.868300 & 0 & 0 & Primed\\\\\n",
       "\tAACAGGGGTACGAAAT.1 & naive\\_primed\\_TSCs\\_VP & 35092 & 7136 &  8.788328 & 0 & 0 & Primed\\\\\n",
       "\tAACCACAAGTTACGGG.1 & naive\\_primed\\_TSCs\\_VP & 20865 & 5074 & 22.870836 & 0 & 0 & Primed\\\\\n",
       "\\end{tabular}\n"
      ],
      "text/markdown": [
       "\n",
       "A data.frame: 10 × 7\n",
       "\n",
       "| <!--/--> | orig.ident &lt;fct&gt; | nCount_RNA &lt;dbl&gt; | nFeature_RNA &lt;int&gt; | percent.mt &lt;dbl&gt; | RNA_snn_res.0.2 &lt;fct&gt; | seurat_clusters &lt;fct&gt; | Cell.type &lt;chr&gt; |\n",
       "|---|---|---|---|---|---|---|---|\n",
       "| AAACGCTAGGTCCTGC.1 | naive_primed_TSCs_VP | 38372 | 7121 | 14.148337 | 0 | 0 | Primed |\n",
       "| AAAGAACCAACAGAGC.1 | naive_primed_TSCs_VP | 50804 | 7902 | 11.278639 | 0 | 0 | Primed |\n",
       "| AAAGAACGTAGCCCTG.1 | naive_primed_TSCs_VP | 55443 | 7953 | 11.496492 | 0 | 0 | Primed |\n",
       "| AAAGGATAGCTCGAAG.1 | naive_primed_TSCs_VP | 35159 | 6107 | 15.378708 | 4 | 4 | TSC    |\n",
       "| AAAGGATCACAAATGA.1 | naive_primed_TSCs_VP | 23777 | 6107 |  7.789040 | 2 | 2 | Primed |\n",
       "| AAAGGTATCGGAACTT.1 | naive_primed_TSCs_VP | 15220 | 3848 |  9.165572 | 1 | 1 | EXMC   |\n",
       "| AAAGTCCAGAGAGAAC.1 | naive_primed_TSCs_VP | 46068 | 7552 | 11.999653 | 0 | 0 | Primed |\n",
       "| AAAGTCCAGCGCTGCT.1 | naive_primed_TSCs_VP | 59757 | 8530 |  9.868300 | 0 | 0 | Primed |\n",
       "| AACAGGGGTACGAAAT.1 | naive_primed_TSCs_VP | 35092 | 7136 |  8.788328 | 0 | 0 | Primed |\n",
       "| AACCACAAGTTACGGG.1 | naive_primed_TSCs_VP | 20865 | 5074 | 22.870836 | 0 | 0 | Primed |\n",
       "\n"
      ],
      "text/plain": [
       "                   orig.ident           nCount_RNA nFeature_RNA percent.mt\n",
       "AAACGCTAGGTCCTGC.1 naive_primed_TSCs_VP 38372      7121         14.148337 \n",
       "AAAGAACCAACAGAGC.1 naive_primed_TSCs_VP 50804      7902         11.278639 \n",
       "AAAGAACGTAGCCCTG.1 naive_primed_TSCs_VP 55443      7953         11.496492 \n",
       "AAAGGATAGCTCGAAG.1 naive_primed_TSCs_VP 35159      6107         15.378708 \n",
       "AAAGGATCACAAATGA.1 naive_primed_TSCs_VP 23777      6107          7.789040 \n",
       "AAAGGTATCGGAACTT.1 naive_primed_TSCs_VP 15220      3848          9.165572 \n",
       "AAAGTCCAGAGAGAAC.1 naive_primed_TSCs_VP 46068      7552         11.999653 \n",
       "AAAGTCCAGCGCTGCT.1 naive_primed_TSCs_VP 59757      8530          9.868300 \n",
       "AACAGGGGTACGAAAT.1 naive_primed_TSCs_VP 35092      7136          8.788328 \n",
       "AACCACAAGTTACGGG.1 naive_primed_TSCs_VP 20865      5074         22.870836 \n",
       "                   RNA_snn_res.0.2 seurat_clusters Cell.type\n",
       "AAACGCTAGGTCCTGC.1 0               0               Primed   \n",
       "AAAGAACCAACAGAGC.1 0               0               Primed   \n",
       "AAAGAACGTAGCCCTG.1 0               0               Primed   \n",
       "AAAGGATAGCTCGAAG.1 4               4               TSC      \n",
       "AAAGGATCACAAATGA.1 2               2               Primed   \n",
       "AAAGGTATCGGAACTT.1 1               1               EXMC     \n",
       "AAAGTCCAGAGAGAAC.1 0               0               Primed   \n",
       "AAAGTCCAGCGCTGCT.1 0               0               Primed   \n",
       "AACAGGGGTACGAAAT.1 0               0               Primed   \n",
       "AACCACAAGTTACGGG.1 0               0               Primed   "
      ]
     },
     "metadata": {},
     "output_type": "display_data"
    }
   ],
   "source": [
    "head(so)"
   ]
  },
  {
   "cell_type": "code",
   "execution_count": 9,
   "metadata": {},
   "outputs": [
    {
     "name": "stdout",
     "output_type": "stream",
     "text": [
      "Modularity Optimizer version 1.3.0 by Ludo Waltman and Nees Jan van Eck\n",
      "\n",
      "Number of nodes: 629\n",
      "Number of edges: 16642\n",
      "\n",
      "Running Louvain algorithm...\n",
      "Maximum modularity in 10 random starts: 0.8133\n",
      "Number of communities: 7\n",
      "Elapsed time: 0 seconds\n"
     ]
    },
    {
     "name": "stderr",
     "output_type": "stream",
     "text": [
      "Calculating cluster 0\n",
      "\n",
      "Calculating cluster 1\n",
      "\n",
      "Calculating cluster 2\n",
      "\n",
      "Calculating cluster 3\n",
      "\n",
      "Calculating cluster 4\n",
      "\n",
      "Calculating cluster 5\n",
      "\n",
      "Calculating cluster 6\n",
      "\n"
     ]
    }
   ],
   "source": [
    "so <- FindClusters(so, resolution = 0.8)\n",
    "markers_res0.8 <- FindAllMarkers(object = so, only.pos = TRUE, min.pct = 0.25, logfc.threshold = 0.25)\n",
    "#save the markers for later\n",
    "saveRDS(markers_res0.8, file = \"/lustre1/project/stg_00041/XuanAi/Timecourse_Naive_TSCs/Loom/VPD30_markers_cluster_res0.8.rds.gz\", compress = \"gzip\")"
   ]
  },
  {
   "cell_type": "code",
   "execution_count": 10,
   "metadata": {},
   "outputs": [
    {
     "name": "stdout",
     "output_type": "stream",
     "text": [
      "Modularity Optimizer version 1.3.0 by Ludo Waltman and Nees Jan van Eck\n",
      "\n",
      "Number of nodes: 629\n",
      "Number of edges: 16642\n",
      "\n",
      "Running Louvain algorithm...\n",
      "Maximum modularity in 10 random starts: 0.7617\n",
      "Number of communities: 11\n",
      "Elapsed time: 0 seconds\n"
     ]
    },
    {
     "name": "stderr",
     "output_type": "stream",
     "text": [
      "Calculating cluster 0\n",
      "\n",
      "Calculating cluster 1\n",
      "\n",
      "Calculating cluster 2\n",
      "\n",
      "Calculating cluster 3\n",
      "\n",
      "Calculating cluster 4\n",
      "\n",
      "Calculating cluster 5\n",
      "\n",
      "Calculating cluster 6\n",
      "\n",
      "Calculating cluster 7\n",
      "\n",
      "Calculating cluster 8\n",
      "\n",
      "Calculating cluster 9\n",
      "\n",
      "Calculating cluster 10\n",
      "\n"
     ]
    }
   ],
   "source": [
    "so <- FindClusters(so, resolution = 1.2)\n",
    "markers_res1.2 <- FindAllMarkers(object = so, only.pos = TRUE, min.pct = 0.25, logfc.threshold = 0.25)\n",
    "saveRDS(markers_res1.2, file = \"/lustre1/project/stg_00041/XuanAi/Timecourse_Naive_TSCs/Loom/VPD30_markers_cluster_res1.2.rds.gz\", compress = \"gzip\")"
   ]
  },
  {
   "cell_type": "code",
   "execution_count": 11,
   "metadata": {},
   "outputs": [
    {
     "name": "stdout",
     "output_type": "stream",
     "text": [
      "[1] \"Adding global attributes...\"\n",
      "[1] \"Adding matrix...\"\n",
      "  |======================================================================| 100%[1] \"Adding column attributes...\"\n",
      "[1] \"Adding default metrics nUMI...\"\n",
      "[1] \"Adding default metrics nGene...\"\n",
      "[1] \"Adding default embedding...\"\n",
      "[1] \"Adding row attributes...\"\n",
      "[1] \"Adding columns graphs...\"\n",
      "[1] \"Adding row graphs...\"\n",
      "[1] \"Adding layers...\"\n"
     ]
    }
   ],
   "source": [
    "loom<- build_loom(file.name = \"Naive_primed_TSC_seurat_obj.loom\", \n",
    "                        dgem = so$RNA@counts, \n",
    "                        title = \"Naive_primed_TSC\",\n",
    "                        genome = \"Human\",\n",
    "                        default.embedding = so@reductions$umap@cell.embeddings,\n",
    "                        default.embedding.name = \"UMAP on variable genes\")"
   ]
  },
  {
   "cell_type": "code",
   "execution_count": 12,
   "metadata": {},
   "outputs": [
    {
     "name": "stdout",
     "output_type": "stream",
     "text": [
      "[1] \"Seurat, RNA_snn_res.0.2\"\n",
      "[1] \"Adding Seurat clusters...\"\n",
      "[1] \"Clusterings created...\"\n",
      "[1] \"Clustering ID: 0\"\n",
      "[1] \"Adding Seurat markers...\"\n"
     ]
    },
    {
     "name": "stderr",
     "output_type": "stream",
     "text": [
      "Warning message in add_seurat_clustering(loom, seurat = so, seurat.assay = \"RNA\", :\n",
      "“Seurat markers for clustering resolution 0.2 have not been computed.”\n"
     ]
    },
    {
     "name": "stdout",
     "output_type": "stream",
     "text": [
      "[1] \"Seurat, RNA_snn_res.0.8\"\n",
      "[1] \"Adding Seurat clusters...\"\n",
      "[1] \"Adding default Seurat clusters...\"\n",
      "[1] \"col_attr 'Clusterings' already exists...\"\n",
      "[1] \"Clustering ID: 1\"\n",
      "[1] \"Adding Seurat markers...\"\n",
      "[1] \"Adding markers for clustering 1...\"\n",
      "[1] \"Seurat, RNA_snn_res.1.2\"\n",
      "[1] \"Adding Seurat clusters...\"\n",
      "[1] \"col_attr 'Clusterings' already exists...\"\n",
      "[1] \"Clustering ID: 2\"\n",
      "[1] \"Adding Seurat markers...\"\n",
      "[1] \"Adding markers for clustering 2...\"\n"
     ]
    }
   ],
   "source": [
    "marker_file_list <- list(\n",
    "    RNA_snn_res.0.8 = \"/lustre1/project/stg_00041/XuanAi/Timecourse_Naive_TSCs/Loom/VPD30_markers_cluster_res0.8.rds.gz\",\n",
    "    RNA_snn_res.1.2 =  \"/lustre1/project/stg_00041/XuanAi/Timecourse_Naive_TSCs/Loom/VPD30_markers_cluster_res1.2.rds.gz\")\n",
    "\n",
    "add_seurat_clustering(loom, \n",
    "                      seurat = so,\n",
    "                      seurat.assay = \"RNA\",\n",
    "                      default.clustering.resolution = 0.8,\n",
    "                      seurat.clustering.prefix = \"RNA_snn_res.\",\n",
    "                      seurat.markers.file.path.list = marker_file_list)"
   ]
  },
  {
   "cell_type": "code",
   "execution_count": 13,
   "metadata": {},
   "outputs": [],
   "source": [
    "finalize(loom)"
   ]
  },
  {
   "cell_type": "code",
   "execution_count": null,
   "metadata": {},
   "outputs": [],
   "source": []
  }
 ],
 "metadata": {
  "kernelspec": {
   "display_name": "R4",
   "language": "R",
   "name": "irkernel_r4"
  },
  "language_info": {
   "codemirror_mode": "r",
   "file_extension": ".r",
   "mimetype": "text/x-r-source",
   "name": "R",
   "pygments_lexer": "r",
   "version": "4.1.0"
  }
 },
 "nbformat": 4,
 "nbformat_minor": 4
}
