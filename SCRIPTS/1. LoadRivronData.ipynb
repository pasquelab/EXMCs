{
 "cells": [
  {
   "cell_type": "code",
   "execution_count": 11,
   "id": "ded3d23a-27be-4c93-a1a2-656654ee3042",
   "metadata": {},
   "outputs": [
    {
     "data": {
      "text/html": [
       "<style>\n",
       ".list-inline {list-style: none; margin:0; padding: 0}\n",
       ".list-inline>li {display: inline-block}\n",
       ".list-inline>li:not(:last-child)::after {content: \"\\00b7\"; padding: 0 .5ex}\n",
       "</style>\n",
       "<ol class=list-inline><li>'GSM5375527_150182_counts.txt'</li><li>'GSM5375528_150183_counts.txt'</li><li>'GSM5375529_150185_counts.txt'</li><li>'GSM5375530_150187_counts.txt'</li><li>'GSM5375531_150188_counts.txt'</li><li>'GSM5375532_150189_counts.txt'</li></ol>\n"
      ],
      "text/latex": [
       "\\begin{enumerate*}\n",
       "\\item 'GSM5375527\\_150182\\_counts.txt'\n",
       "\\item 'GSM5375528\\_150183\\_counts.txt'\n",
       "\\item 'GSM5375529\\_150185\\_counts.txt'\n",
       "\\item 'GSM5375530\\_150187\\_counts.txt'\n",
       "\\item 'GSM5375531\\_150188\\_counts.txt'\n",
       "\\item 'GSM5375532\\_150189\\_counts.txt'\n",
       "\\end{enumerate*}\n"
      ],
      "text/markdown": [
       "1. 'GSM5375527_150182_counts.txt'\n",
       "2. 'GSM5375528_150183_counts.txt'\n",
       "3. 'GSM5375529_150185_counts.txt'\n",
       "4. 'GSM5375530_150187_counts.txt'\n",
       "5. 'GSM5375531_150188_counts.txt'\n",
       "6. 'GSM5375532_150189_counts.txt'\n",
       "\n",
       "\n"
      ],
      "text/plain": [
       "[1] \"GSM5375527_150182_counts.txt\" \"GSM5375528_150183_counts.txt\"\n",
       "[3] \"GSM5375529_150185_counts.txt\" \"GSM5375530_150187_counts.txt\"\n",
       "[5] \"GSM5375531_150188_counts.txt\" \"GSM5375532_150189_counts.txt\""
      ]
     },
     "metadata": {},
     "output_type": "display_data"
    },
    {
     "data": {
      "text/html": [
       "3006"
      ],
      "text/latex": [
       "3006"
      ],
      "text/markdown": [
       "3006"
      ],
      "text/plain": [
       "[1] 3006"
      ]
     },
     "metadata": {},
     "output_type": "display_data"
    }
   ],
   "source": [
    "fileList <- list.files(\"/staging/leuven/stg_00041/Bradley/rivronData/countsFiles\")\n",
    "tempFile <- read.table(paste(c(\"/staging/leuven/stg_00041/Bradley/rivronData/countsFiles/\",fileList[1]), collapse=\"\"), h=T)"
   ]
  },
  {
   "cell_type": "code",
   "execution_count": 18,
   "id": "d3e0e19f-7278-4d50-aadc-24354e5dcd9d",
   "metadata": {},
   "outputs": [
    {
     "data": {
      "text/html": [
       "<table class=\"dataframe\">\n",
       "<caption>A data.frame: 6 x 2</caption>\n",
       "<thead>\n",
       "\t<tr><th></th><th scope=col>gene_id</th><th scope=col>read_counts</th></tr>\n",
       "\t<tr><th></th><th scope=col>&lt;fct&gt;</th><th scope=col>&lt;int&gt;</th></tr>\n",
       "</thead>\n",
       "<tbody>\n",
       "\t<tr><th scope=row>1</th><td>ENSG00000000003</td><td>235</td></tr>\n",
       "\t<tr><th scope=row>2</th><td>ENSG00000000005</td><td>  0</td></tr>\n",
       "\t<tr><th scope=row>3</th><td>ENSG00000000419</td><td> 98</td></tr>\n",
       "\t<tr><th scope=row>4</th><td>ENSG00000000457</td><td>  0</td></tr>\n",
       "\t<tr><th scope=row>5</th><td>ENSG00000000460</td><td> 41</td></tr>\n",
       "\t<tr><th scope=row>6</th><td>ENSG00000000938</td><td>  0</td></tr>\n",
       "</tbody>\n",
       "</table>\n"
      ],
      "text/latex": [
       "A data.frame: 6 x 2\n",
       "\\begin{tabular}{r|ll}\n",
       "  & gene\\_id & read\\_counts\\\\\n",
       "  & <fct> & <int>\\\\\n",
       "\\hline\n",
       "\t1 & ENSG00000000003 & 235\\\\\n",
       "\t2 & ENSG00000000005 &   0\\\\\n",
       "\t3 & ENSG00000000419 &  98\\\\\n",
       "\t4 & ENSG00000000457 &   0\\\\\n",
       "\t5 & ENSG00000000460 &  41\\\\\n",
       "\t6 & ENSG00000000938 &   0\\\\\n",
       "\\end{tabular}\n"
      ],
      "text/markdown": [
       "\n",
       "A data.frame: 6 x 2\n",
       "\n",
       "| <!--/--> | gene_id &lt;fct&gt; | read_counts &lt;int&gt; |\n",
       "|---|---|---|\n",
       "| 1 | ENSG00000000003 | 235 |\n",
       "| 2 | ENSG00000000005 |   0 |\n",
       "| 3 | ENSG00000000419 |  98 |\n",
       "| 4 | ENSG00000000457 |   0 |\n",
       "| 5 | ENSG00000000460 |  41 |\n",
       "| 6 | ENSG00000000938 |   0 |\n",
       "\n"
      ],
      "text/plain": [
       "  gene_id         read_counts\n",
       "1 ENSG00000000003 235        \n",
       "2 ENSG00000000005   0        \n",
       "3 ENSG00000000419  98        \n",
       "4 ENSG00000000457   0        \n",
       "5 ENSG00000000460  41        \n",
       "6 ENSG00000000938   0        "
      ]
     },
     "metadata": {},
     "output_type": "display_data"
    }
   ],
   "source": [
    "head(tempFile)\n",
    "\n",
    "#making a matrix to contain the data, each column is a cell and each row is a gene\n",
    "rivronLoaded <- matrix(nrow=nrow(tempFile), ncol=length(fileList))\n",
    "rownames(rivronLoaded)<-tempFile$gene_id\n",
    "colnames(rivronLoaded) <- fileList\n",
    "\n",
    "rivronLoaded[,1] <- tempFile$read_counts"
   ]
  },
  {
   "cell_type": "code",
   "execution_count": 19,
   "id": "06814316-4404-47da-8ee7-5e8ea16c15c1",
   "metadata": {},
   "outputs": [],
   "source": [
    "#loading data\n",
    "\n",
    "for(i in 2:length(fileList)){\n",
    "    rivronLoaded[,i]<- read.table(paste(c(\"/staging/leuven/stg_00041/Bradley/rivronData/countsFiles/\",fileList[i]), collapse=\"\"), h=T)[,2]\n",
    "    \n",
    "}"
   ]
  },
  {
   "cell_type": "code",
   "execution_count": 26,
   "id": "84fbd25f-971d-4fad-b45e-f3b2880cfb9b",
   "metadata": {},
   "outputs": [
    {
     "name": "stdout",
     "output_type": "stream",
     "text": [
      "[1] \"XIST expression:\"\n"
     ]
    },
    {
     "data": {
      "text/plain": [
       "   Min. 1st Qu.  Median    Mean 3rd Qu.    Max. \n",
       "   0.00    0.00    0.00   34.01   11.00 1390.00 "
      ]
     },
     "metadata": {},
     "output_type": "display_data"
    },
    {
     "name": "stdout",
     "output_type": "stream",
     "text": [
      "[1] \"XACT expression: \"\n"
     ]
    },
    {
     "data": {
      "text/plain": [
       "   Min. 1st Qu.  Median    Mean 3rd Qu.    Max. \n",
       "    0.0     0.0     1.0   116.6   113.0  5452.0 "
      ]
     },
     "metadata": {},
     "output_type": "display_data"
    }
   ],
   "source": [
    "print(\"XIST expression:\")\n",
    "summary(rivronLoaded[which(rownames(rivronLoaded)==\"ENSG00000229807\"),]) #XIST\n",
    "print(\"XACT expression: \")\n",
    "summary(rivronLoaded[which(rownames(rivronLoaded)==\"ENSG00000241743\"),]) #XACT"
   ]
  },
  {
   "cell_type": "code",
   "execution_count": 27,
   "id": "c3c9a009-c8a3-4579-b2ea-b55762315007",
   "metadata": {},
   "outputs": [],
   "source": [
    "save(rivronLoaded, file=\"/staging/leuven/stg_00041/Bradley/rivronData/rivronLoaded.counts.Robject\")"
   ]
  },
  {
   "cell_type": "code",
   "execution_count": null,
   "id": "04d974e9-8f74-45e9-93b2-cbcacfe5f69e",
   "metadata": {},
   "outputs": [],
   "source": []
  }
 ],
 "metadata": {
  "kernelspec": {
   "display_name": "R",
   "language": "R",
   "name": "ir"
  },
  "language_info": {
   "codemirror_mode": "r",
   "file_extension": ".r",
   "mimetype": "text/x-r-source",
   "name": "R",
   "pygments_lexer": "r",
   "version": "4.1.0"
  }
 },
 "nbformat": 4,
 "nbformat_minor": 5
}
