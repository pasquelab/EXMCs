{
 "cells": [
  {
   "cell_type": "code",
   "execution_count": 1,
   "id": "3fa00560-ee46-44c1-a099-6b85d9c41df5",
   "metadata": {},
   "outputs": [
    {
     "name": "stderr",
     "output_type": "stream",
     "text": [
      "Attaching SeuratObject\n",
      "\n",
      "\n",
      "Attaching package: 'dplyr'\n",
      "\n",
      "\n",
      "The following objects are masked from 'package:plyr':\n",
      "\n",
      "    arrange, count, desc, failwith, id, mutate, rename, summarise,\n",
      "    summarize\n",
      "\n",
      "\n",
      "The following objects are masked from 'package:stats':\n",
      "\n",
      "    filter, lag\n",
      "\n",
      "\n",
      "The following objects are masked from 'package:base':\n",
      "\n",
      "    intersect, setdiff, setequal, union\n",
      "\n",
      "\n"
     ]
    }
   ],
   "source": [
    "setwd(\"/staging/leuven/stg_00041/Bradley/\")\n",
    "\n",
    "library(umap)\n",
    "library(ggplot2)\n",
    "library(Seurat)\n",
    "library(reshape2)\n",
    "library(plyr)\n",
    "library(dplyr)\n"
   ]
  },
  {
   "cell_type": "code",
   "execution_count": 2,
   "id": "033a6130-8cc4-4dbf-8ecd-03efcff23cc1",
   "metadata": {},
   "outputs": [],
   "source": [
    "load(\"combinedMeta.Robject\")"
   ]
  },
  {
   "cell_type": "code",
   "execution_count": 3,
   "id": "1653ac94-bbc9-4a6c-a7ef-4e5ddc9d710e",
   "metadata": {},
   "outputs": [],
   "source": [
    "load(\"integratedBlastoids.combinedCounts.raw.Robject\")"
   ]
  },
  {
   "cell_type": "code",
   "execution_count": 4,
   "id": "208e475d-8b20-43a7-8185-7efa41b68591",
   "metadata": {},
   "outputs": [],
   "source": [
    "manualCalculatePercentMT <- function(cellGeneCounts, geneNames){\n",
    "    geneNames <- as.character(geneNames)\n",
    "    return((sum(cellGeneCounts[grep(pattern=\"^MT-\", x = geneNames)])/sum(cellGeneCounts))*100)\n",
    "    \n",
    "    \n",
    "}"
   ]
  },
  {
   "cell_type": "code",
   "execution_count": 8,
   "id": "b2c99246-9e36-4075-96b1-cf6c51659c4b",
   "metadata": {},
   "outputs": [],
   "source": [
    "for(i in 1:4){\n",
    "    combinedCounts[[i]]$RNAcounts <-apply(combinedCounts[[i]]$counts[,which(colnames(combinedCounts[[i]]$counts)!=\"gene\")], 2, sum)\n",
    "}"
   ]
  },
  {
   "cell_type": "code",
   "execution_count": null,
   "id": "4621e78f-43a5-484f-91a9-129857bd264c",
   "metadata": {},
   "outputs": [],
   "source": [
    "for(i in 1:4){\n",
    "    combinedCounts[[i]]$percentMT <- apply(combinedCounts[[i]]$counts[,which(colnames(combinedCounts[[i]]$counts)!=\"gene\")], 2, manualCalculatePercentMT,\n",
    "                                          geneNames=rownames(combinedCounts[[i]]$counts))\n",
    "}"
   ]
  },
  {
   "cell_type": "code",
   "execution_count": null,
   "id": "f284aef5-cac4-4350-a666-376f4a5a53c1",
   "metadata": {},
   "outputs": [],
   "source": [
    "#filtering for MT % and read count\n",
    "applyFilters <- function(combinedCountsPiece){\n",
    "    filtered <-list()\n",
    "    \n",
    "    survivesFilter <- which(combinedCountsPiece$RNAcounts> \n",
    "                                                         10^(log10(summary(combinedCountsPiece$RNAcounts)[2])-IQR(log10(combinedCountsPiece$RNAcounts)) ) &\n",
    "                                                        combinedCountsPiece$percentMT<10)\n",
    "    \n",
    "    filtered$counts <- combinedCountsPiece$counts[,survivesFilter]\n",
    "    filtered$annotation <- combinedCountsPiece$annotation[survivesFilter,]\n",
    "    filtered$RNAcounts <- combinedCountsPiece$RNAcounts[survivesFilter]\n",
    "    filtered$percentMT <- combinedCountsPiece$percentMT[survivesFilter]\n",
    "    \n",
    "    \n",
    "    filtered$counts <- as.data.frame(filtered$counts)\n",
    "    filtered$counts$gene <- row.names(filtered$counts)\n",
    "    return(filtered)\n",
    "}\n",
    "\n",
    "\n",
    "\n",
    "\n",
    "\n",
    "#below is my filter for RNAcounts, it is quartile1-1.5*the interquartile distance, but in log10 because only log transformed do my graphs have a more normal distribution\n",
    "#10^(log10(summary(combinedCounts[[i]]$RNAcounts)[2])-IQR(log10(combinedCounts[[i]]$RNAcounts)) )\n",
    "#this might be horribl statistics but it looks decent to me.\n"
   ]
  },
  {
   "cell_type": "code",
   "execution_count": null,
   "id": "6b6bab26-7dbb-4712-97b1-3b6765e18bdc",
   "metadata": {
    "tags": []
   },
   "outputs": [],
   "source": [
    "allMerge <- function(studies){\n",
    "    combinedCountsMerge <- merge(applyFilters(combinedCounts[[studies[1]]])$counts,\n",
    "                                applyFilters(combinedCounts[[studies[2]]])$counts, by=\"gene\", all=F)\n",
    "    if(length(studies)>2){\n",
    "        for(i in 3:length(studies)){\n",
    "            combinedCountsMerge <- merge(combinedCountsMerge, applyFilters(combinedCounts[[studies[i]]])$counts, by=\"gene\", all=F)\n",
    "        }\n",
    "    }\n",
    "    return(combinedCountsMerge)\n",
    "}"
   ]
  },
  {
   "cell_type": "code",
   "execution_count": null,
   "id": "3d9aec85-d7b4-48bc-be2e-cc948735248d",
   "metadata": {},
   "outputs": [],
   "source": [
    "#I had this as a function when I had more datasets and was trying different combinations\n",
    "integrateAsFunction <- function(studyNums){\n",
    "\n",
    "combinedCountsMerge <- allMerge(studyNums) \n",
    "\n",
    "rownames(combinedCountsMerge) <- combinedCountsMerge$gene\n",
    "\n",
    "combinedCountsMerge <- combinedCountsMerge[apply(combinedCountsMerge[,which(colnames(combinedCountsMerge)!=\"gene\")], 1, function(x){!all(x==0)}),]\n",
    "\n",
    "    \n",
    "    percentMT <- c()\n",
    "    \n",
    "    for(i in studyNums){\n",
    "       percentMT <- c(percentMT, combinedCounts[[i]]$percentMT)\n",
    "                      \n",
    "    }\n",
    "    \n",
    "    percentMT <- data.frame(percentMT, cell=names(percentMT))\n",
    "    \n",
    "combinedCountsSeurat<- CreateSeuratObject(\n",
    "  counts = combinedCountsMerge[,which(colnames(combinedCountsMerge)!=\"gene\")],\n",
    "  project = \"combinedCountsSeurat\", \n",
    "  min.cells = 0,\n",
    "  min.features = 0\n",
    "  )\n",
    "\n",
    "\n",
    "\n",
    "combinedCountsSeurat@meta.data$cell <- rownames(combinedCountsSeurat@meta.data)\n",
    "\n",
    "combinedCountsSeurat@meta.data <- join(combinedCountsSeurat@meta.data, combinedMeta[,], by=\"cell\", type=\"left\")\n",
    "\n",
    "combinedCountsSeurat@meta.data <- join(combinedCountsSeurat@meta.data, percentMT, by=\"cell\", type=\"left\")\n",
    "\n",
    "    \n",
    "rownames(combinedCountsSeurat@meta.data) <- combinedCountsSeurat@meta.data$cell\n",
    "\n",
    "combinedCountsSeurat <- NormalizeData(object=combinedCountsSeurat, normalization.method=\"LogNormalize\", scale.factor=10000)\n",
    "combinedCountsSeurat <- ScaleData(combinedCountsSeurat, verbose=FALSE)\n",
    "combinedCountsSeurat <- FindVariableFeatures(combinedCountsSeurat, selection.method=\"vst\", nfeatures=2000)\n",
    "combinedCountsSeurat <- RunPCA(combinedCountsSeurat, npcs=30, verbose=FALSE)\n",
    "combinedCountsSeurat <- RunUMAP(combinedCountsSeurat, reduction=\"pca\", dims=1:30)\n",
    "combinedCountsSeurat <- FindNeighbors(combinedCountsSeurat, reduction=\"pca\", dims=1:30)\n",
    "\n",
    "combinedCountsSeuratSplit <- SplitObject(combinedCountsSeurat, split.by=\"study\")\n",
    "\n",
    "combinedCountsSeuratSplit <- lapply(combinedCountsSeuratSplit, function(x){\n",
    "    x <- NormalizeData(x)\n",
    "    x <- FindVariableFeatures(x, selection.method=\"vst\", nfeatures = 2000)\n",
    "})\n",
    "\n",
    "features <- SelectIntegrationFeatures(object.list=combinedCountsSeuratSplit)\n",
    "\n",
    "anchors <- FindIntegrationAnchors(combinedCountsSeuratSplit, anchor.features=features)\n",
    "\n",
    "combinedCountsSeuratReintegrated <- IntegrateData(anchorset=anchors, dims=1:50)\n",
    "\n",
    "combinedCountsSeuratReintegrated <- ScaleData(combinedCountsSeuratReintegrated, verbose=FALSE)\n",
    "combinedCountsSeuratReintegrated <- RunPCA(combinedCountsSeuratReintegrated, npcs=30, verbose=FALSE)\n",
    "\n",
    "combinedCountsSeuratReintegrated <- FindNeighbors(combinedCountsSeuratReintegrated, reduction=\"pca\", dims=1:30)\n",
    "\n",
    "combinedCountsSeuratReintegrated <- suppressMessages(RunUMAP(combinedCountsSeuratReintegrated, reduction=\"pca\", dims=1:30, seed.use = 123))\n",
    "\n",
    "    return(combinedCountsSeuratReintegrated)\n",
    "}"
   ]
  },
  {
   "cell_type": "code",
   "execution_count": null,
   "id": "402dc2cc-2e4c-4401-8036-adaf0806d8eb",
   "metadata": {},
   "outputs": [],
   "source": [
    "allDataIntegration.seurat <- integrateAsFunction(c(1:4))\n",
    "save(allDataIntegration.seurat, file=\"allDatasets.combinedCountsSeuratReintegrated.filtered.Robject\")"
   ]
  },
  {
   "cell_type": "code",
   "execution_count": null,
   "id": "06ba9aa7-8bed-44b8-b4d2-b71ceea02f5a",
   "metadata": {},
   "outputs": [],
   "source": [
    "tyserPetRivron.seurat <- integrateAsFunction(c(1:3))\n",
    "save(tyserPetRivron.seurat, file=\"tyserPetRivron.combinedCountsSeuratReintegrated.filtered.Robject\")\n"
   ]
  }
 ],
 "metadata": {
  "kernelspec": {
   "display_name": "R",
   "language": "R",
   "name": "ir"
  },
  "language_info": {
   "codemirror_mode": "r",
   "file_extension": ".r",
   "mimetype": "text/x-r-source",
   "name": "R",
   "pygments_lexer": "r",
   "version": "4.1.0"
  }
 },
 "nbformat": 4,
 "nbformat_minor": 5
}
