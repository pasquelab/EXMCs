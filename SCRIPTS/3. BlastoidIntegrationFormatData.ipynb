{
 "cells": [
  {
   "cell_type": "code",
   "execution_count": 1,
   "id": "b7fc8314-291f-4ce0-8e36-2afc43ef3f5b",
   "metadata": {},
   "outputs": [],
   "source": [
    "#integrate all properly\n",
    "setwd(\"/staging/leuven/stg_00041/Bradley/\")\n"
   ]
  },
  {
   "cell_type": "code",
   "execution_count": 2,
   "id": "245449da-b6ee-465e-b541-3fe69803dbb2",
   "metadata": {},
   "outputs": [
    {
     "name": "stderr",
     "output_type": "stream",
     "text": [
      "Attaching SeuratObject\n",
      "\n"
     ]
    }
   ],
   "source": [
    "library(umap)\n",
    "library(ggplot2)\n",
    "library(Seurat)\n",
    "library(reshape2)"
   ]
  },
  {
   "cell_type": "code",
   "execution_count": 8,
   "id": "328e333c-22e1-4617-a996-55f1d944c6a8",
   "metadata": {},
   "outputs": [],
   "source": [
    "#rivron\n",
    "rivronLoaded <- read.table(\"/staging/leuven/stg_00041/Bradley/rivronData/rivronBlastoids.hg38.counts.tsv\", h=T, sep=\"\\t\")\n",
    "rivronCellMeta <- read.table(\"/staging/leuven/stg_00041/Bradley/rivronData/rivron.metadata.tsv\", h=T, sep=\"\\t\")\n",
    "\n",
    "rivronCellMeta$type <- NA\n",
    "for(i in 1:nrow(rivronCellMeta)){\n",
    "    rivronCellMeta$type[i]<- strsplit(as.character(rivronCellMeta$title[i]), split=\"-\")[[1]][1]\n",
    "}"
   ]
  },
  {
   "cell_type": "code",
   "execution_count": 13,
   "id": "6d6ea848-c4de-468b-9842-d34f225dc737",
   "metadata": {},
   "outputs": [],
   "source": [
    "#petropolous\n",
    "petropolous <- read.table(\"/staging/leuven/stg_00041/Published_Embryo_Data/Petropoulos_preImplantation//Mapped_hg38/CountMatrix//ESC_raw_counts_Pet.csv\", h=T, sep=\",\")\n",
    "\n",
    "#1st column is genes\n",
    "rownames(petropolous) <- petropolous$X\n",
    "petropolous <- petropolous[,-1]\n",
    "\n"
   ]
  },
  {
   "cell_type": "code",
   "execution_count": 14,
   "id": "3b7d6572-f115-4c63-9bcf-d63492b10cbd",
   "metadata": {},
   "outputs": [],
   "source": [
    "#cell meta from colnames\n",
    "\n",
    "petropolousCellMeta <- read.table(\"/staging/leuven/stg_00041/Published_Embryo_Data/Petropoulos_preImplantation/Mapped_hg38/Annotation/annotation_Pet.csv\", h=T, sep=\",\")\n",
    "petropolousCellMeta <- merge(data.frame(colnames(petropolous)), petropolousCellMeta, by.x=1, by.y=8)\n",
    "\n",
    "\n",
    "petropolousCellMeta <- merge(petropolousCellMeta, zhouPetReannotate, by.x=1 , by.y=1 , all.x=T)\n"
   ]
  },
  {
   "cell_type": "code",
   "execution_count": 23,
   "id": "d980b094-f783-4aa4-ab77-a9689ac39a21",
   "metadata": {},
   "outputs": [],
   "source": [
    "#tyser\n",
    "#https://doi.org/10.1101/2020.07.21.213512\n",
    "\n",
    "tyser <- read.table(\"/staging//leuven/stg_00041/Published_Embryo_Data/Tyser_Gastrulation/Tyser_counts_Gael.tsv\", h=T)\n",
    "tyserCellAnnotation <- read.table(\"/staging//leuven/stg_00041/Published_Embryo_Data/Tyser_Gastrulation/Tyser_annotation_Gael.tsv\", h=T, sep=\"\\t\")\n",
    "\n",
    "rownames(tyser)<- tyser$rownames.dat.\n",
    "\n",
    "tyser <- t(tyser[,-1])"
   ]
  },
  {
   "cell_type": "code",
   "execution_count": 24,
   "id": "b534388c-4ffa-49df-8d74-8abe84902adb",
   "metadata": {},
   "outputs": [],
   "source": [
    "#Pasque data\n",
    "#from Xuan Ai, scRNA-seq of the naive, primed, TSC and EXM\n",
    "\n",
    "pasque <- read.table(\"/lustre1/project/stg_00041/XuanAi/2020_2021/Naive_primed_TSCs/Naive_Primed_TSCs_countMtx_Ai_mouse_20210624.csv\", h=T, sep=\",\")\n",
    "\n"
   ]
  },
  {
   "cell_type": "code",
   "execution_count": 25,
   "id": "f7454d3d-acb5-45f3-9942-9eecfeb7ddc5",
   "metadata": {},
   "outputs": [],
   "source": [
    "rownames(pasque) <- pasque[,1]\n",
    "pasque <- pasque[,-1]"
   ]
  },
  {
   "cell_type": "code",
   "execution_count": 42,
   "id": "630cc3ce-76e6-4daa-ac8b-826b6dfde17b",
   "metadata": {},
   "outputs": [],
   "source": [
    "#making a combined meta-file\n",
    "combinedMeta <- data.frame(study=c(\n",
    "                                  rep.int(\"rivron\", times=ncol(rivronLoaded)),\n",
    "                                  rep.int(\"petropolous\", times=ncol(petropolous)),\n",
    "                                  rep.int(\"tyser\", times=ncol(tyser)),\n",
    "                                  rep.int(\"pasque\", times=ncol(pasque))),#for making a publication figure, probably want to use first author for all\n",
    "                          \n",
    "                           GEO=c(rep.int(\"GSE177616\", times=ncol(rivronLoaded)),\n",
    "                                rep.int(NA, times=ncol(petropolous)),\n",
    "                                rep.int(NA, times=ncol(tyser)), \n",
    "                                rep.int(NA, times=ncol(pasque))),\n",
    "                           \n",
    "                           \n",
    "                          sampleID=c(rivronCellMeta$type,\n",
    "                                    petropolousCellMeta$Embryo_ID, \n",
    "                                    tyserCellAnnotation$origin,\n",
    "                                    rep.int(\"pasque\", times=ncol(pasque))),\n",
    "                           \n",
    "                          time=c(rivronCellMeta$characteristics..treatment,\n",
    "                                petropolousCellMeta$Stage,\n",
    "                                 rep.int(\"D16-19\", times=ncol(tyser)),\n",
    "                                 rep.int(NA, times=ncol(pasque))\n",
    "                                ),\n",
    "                           cell=c(colnames(rivronLoaded),\n",
    "                                 colnames(petropolous),\n",
    "                                 tyserCellAnnotation$rownames.dat.,\n",
    "                                 colnames(pasque)),\n",
    "                           cellLineageOriginal=c(#the embryonic datasets have nice cell lineage predictions, blastoids dont appear to\n",
    "                           \n",
    "                               rivronCellMeta$type, #I think this is the best I got? it isnt really cell lineage...\n",
    "                               petropolousCellMeta$finalCluster, tyserCellAnnotation$cluster,\n",
    "                               rep.int(NA, times=ncol(pasque)))\n",
    "                        \n",
    "                          )\n",
    "\n"
   ]
  },
  {
   "cell_type": "code",
   "execution_count": 43,
   "id": "d2c1503e-e2a6-49ee-b608-a770a694c196",
   "metadata": {},
   "outputs": [
    {
     "data": {
      "text/plain": [
       "                  \n",
       "                     guo iBlastoid junWu pasque petropolous rivron sozen tyser xiang  zhou  <NA>\n",
       "  B1_B2                0         0     0      0         174      0     0     0     0     1     0\n",
       "  CTBs                 0         0     0      0           0      0     0     0   149     0     0\n",
       "  EPI                104         0     0      0         163      0     0   133   165   283     0\n",
       "  EVT                  0         0     0      0           0      0     0     0    29   464     0\n",
       "  Ectoderm             0         0     0      0           0      0     0    29     0     0     0\n",
       "  EightCells           0         0     0      0          83      0     0     0     0     0     0\n",
       "  ICM                 45         0     0      0           0      0     0     0    52     0     0\n",
       "  Morula               0         0     0      0         149      0     0     0     0     0     0\n",
       "  PrE                  0         0     0      0          26      0     0   135     0   164     0\n",
       "  Primitive Streak     0         0     0      0           0      0     0   202     0     0     0\n",
       "  STB                  0         0     0      0           0      0     0     0   104  1282     0\n",
       "  TB                   0         0     0      0          95    232     0     0     0  2502     0\n",
       "  TE                 309         0     0      0         806      0     0     0     0   617     0\n",
       "  blastoid             0         0     0      0           0   2498     0     0     0     0     0\n",
       "  erythrocytes         0         0     0      0           0      0     0   143     0     0     0\n",
       "  hypo                27         0     0      0           0      0     0     0    24     0     0\n",
       "  iBlastoid            0      9060     0      0           0      0     0     0     0     0     0\n",
       "  mesoderm             0         0     0      0           0      0     0   553     0     0     0\n",
       "  naive                0         0  1638      0           0    151     0     0     0     0     0\n",
       "  postBlastoid         0         0  9204      0           0      0     0     0     0     0     0\n",
       "  primed               0         0     0      0           0    125     0     0     0     0     0\n",
       "  sozen.blastoid       0         0     0      0           0      0  5689     0     0     0     0\n",
       "  unknown             10         0 26201   1007          33      0     0     0    34   568     0\n",
       "  <NA>                 0         0     0      0           0      0     0     0     0     0     0"
      ]
     },
     "metadata": {},
     "output_type": "display_data"
    }
   ],
   "source": [
    "combinedMeta$cellLineage <- combinedMeta$cellLineageOriginal\n",
    "\n",
    "combinedMeta$cellLineage[which(combinedMeta$cellLineage%in%c(\"Undefined\", \"unknown\"))]<- \"NA\"\n",
    "combinedMeta$cellLineage[which(combinedMeta$cellLineage%in%c(\"Trophectoderm\", \"TE\", \"Early Trophectoderm\", \"early_TE\", \"late_TE\", \"medium_TE\", \"ysTE\"))]<- \"TE\"\n",
    "combinedMeta$cellLineage[which(combinedMeta$cellLineage%in%c(\"EPI\", \"EPI_PE\", \"Epiblast\", \"PSA-EPI\"))]<- \"EPI\"\n",
    "combinedMeta$cellLineage[which(combinedMeta$cellLineage%in%c(\"ICM\", \"Inner Cell Mass\", \"Inner Cell Mass-Trophectoderm Transition\"))]<- \"ICM\"\n",
    "combinedMeta$cellLineage[which(combinedMeta$cellLineage%in%c(\"blastoid_24h\", \"blastoid_60h_PDGFRa_pl\",\n",
    "                                                            \"blastoid_60h_TROP2_min\",\n",
    "                                                            \"blastoid_60h_TROP2_pl\",\n",
    "                                                            \"blastoid_96h_DN\",\n",
    "                                                            \"blastoid_96h_PDGFRa_pl\",\n",
    "                                                            \"blastoid_96h_TROP2_pl\",\n",
    "                                                            \"XMU_MP_1\",\n",
    "                                                            \"SC144\"))]<- \"blastoid\"\n",
    "combinedMeta$cellLineage[which(combinedMeta$cellLineage%in%c(\"naiveWIBR3\", \"naive_H9\"))]<- \"naive\"\n",
    "combinedMeta$cellLineage[which(combinedMeta$cellLineage%in%c(\"primed_H9\"))]<- \"primed\"\n",
    "combinedMeta$cellLineage[which(combinedMeta$cellLineage%in%c(\"Undefined\", \"unknown\", \"Unknown\",\"Transitioning\", \"MIX\", \"NA\", NA))]<- \"unknown\"\n",
    "combinedMeta$cellLineage[which(combinedMeta$cellLineage%in%c(\"okae_bts5\", \"okae_bts5_3D\"))]<- \"TS\"\n",
    "combinedMeta$cellLineage[which(combinedMeta$cellLineage%in%c(\"Hypoblast\"))]<- \"hypo\"\n",
    "combinedMeta$cellLineage[which(combinedMeta$cellLineage%in%c(\"naive.postBlastoid\",\n",
    "                                                            \"naive.postBlastoid.extraEmbryonicEndoderm\",\n",
    "                                                            \"postBlastoid.TSC\"))]<- \"postBlastoid\"\n",
    "combinedMeta$cellLineage[which(combinedMeta$cellLineage%in%c(\"Advanced Mesoderm\", \"Axial Mesoderm\", \"Emergent Mesoderm\",\n",
    "                                                            \"Nascent Mesoderm\", \"YS Mesoderm\"))] <- \"mesoderm\"\n",
    "combinedMeta$cellLineage[which(combinedMeta$cellLineage%in%c(\"TB.apoptosis\", \"TB.early\", \"TB.late\", \"TB.medium1\", \"TB.medium2\", \"TB.medium3\" , \"TS\"))]<- \"TB\"\n",
    "combinedMeta$cellLineage[which(combinedMeta$cellLineage%in%c(\"EVT\", \"EVTs\", \"Pre.EVT\"))]<- \"EVT\"\n",
    "combinedMeta$cellLineage[which(combinedMeta$cellLineage%in%c(\"Erythrocytes\", \"Hemogenic Endothelial Progenitors\"))]<- \"erythrocytes\"\n",
    "combinedMeta$cellLineage[which(combinedMeta$cellLineage%in%c(\"ST\", \"STBs\", \"Pre.ST\"))]<- \"STB\"\n",
    "combinedMeta$cellLineage[which(combinedMeta$cellLineage%in%c(\"Endoderm\"))]<- \"PrE\"\n",
    "\n",
    "\n",
    "options(width=120)\n",
    "\n",
    "table(combinedMeta$cellLineage, combinedMeta$study, useNA=\"always\")"
   ]
  },
  {
   "cell_type": "code",
   "execution_count": 13,
   "id": "fddfcbd9-1708-4d1b-a1b2-ea472012cac0",
   "metadata": {},
   "outputs": [],
   "source": [
    "save(combinedMeta, file=\"combinedMeta.Robject\")"
   ]
  },
  {
   "cell_type": "code",
   "execution_count": null,
   "id": "f66045aa-3860-4943-bcb9-bd180f614e9c",
   "metadata": {},
   "outputs": [],
   "source": [
    "#load(\"combinedMeta.Robject\")"
   ]
  },
  {
   "cell_type": "code",
   "execution_count": 47,
   "id": "007b40ed-79ce-4d5e-a008-17ce7616df42",
   "metadata": {},
   "outputs": [],
   "source": [
    "#make a combined Robject with all datasets in a standardized format for use with splitXAanalysis\n",
    "combinedCounts <-list()\n",
    "\n",
    "#'rivron'\n",
    "combinedCounts$rivron <- list()\n",
    "combinedCounts$rivron$counts <- rivronLoaded\n",
    "combinedCounts$rivron$annotation <- combinedMeta[which(combinedMeta$study==\"rivron\"),]\n",
    "\n",
    "#'petropolous'\n",
    "combinedCounts$petropolous <- list()\n",
    "combinedCounts$petropolous$counts <- petropolous\n",
    "combinedCounts$petropolous$annotation <- combinedMeta[which(combinedMeta$study==\"petropolous\"),]\n",
    "\n",
    "#tyser\n",
    "combinedCounts$tyser <- list()\n",
    "combinedCounts$tyser$counts <- tyser\n",
    "combinedCounts$tyser$annotation <- combinedMeta[which(combinedMeta$study==\"tyser\"),]\n",
    "\n",
    "#Pasque\n",
    "combinedCounts$pasque <- list(counts=pasque)\n"
   ]
  },
  {
   "cell_type": "code",
   "execution_count": 21,
   "id": "e2c6dadc-b081-45a2-a3b1-e07fa4361fa8",
   "metadata": {},
   "outputs": [],
   "source": [
    "save(combinedCounts, file=\"integratedBlastoids.combinedCounts.raw.Robject\")"
   ]
  },
  {
   "cell_type": "code",
   "execution_count": 5,
   "id": "48430f58-28d2-49c1-b718-a5835480244a",
   "metadata": {},
   "outputs": [],
   "source": [
    "load(\"integratedBlastoids.combinedCounts.raw.Robject\")"
   ]
  },
  {
   "cell_type": "code",
   "execution_count": 16,
   "id": "3a7f9213-e0c1-4c03-bc4c-36229383aa3c",
   "metadata": {},
   "outputs": [],
   "source": [
    "loadNormalSeurat <- function(input, projName){\n",
    "    outSeurat <- CreateSeuratObject(counts=input, project=projName, min.cells=3, min.features=200)#trying min cells 0, was 3 but want to keep more features\n",
    "    outSeurat <- NormalizeData(outSeurat)\n",
    "    outSeurat <- FindVariableFeatures(outSeurat, selection.method = \"vst\", nfeatures = 2000)\n",
    "    \n",
    "    outSeurat@meta.data$study <- NA\n",
    "    outSeurat@meta.data$sampleID <- NA\n",
    "    outSeurat@meta.data$time <- NA\n",
    "\n",
    "    for(i in 1:nrow(outSeurat@meta.data)){\n",
    "        outSeurat@meta.data$study[i] <- combinedMeta$study[which(combinedMeta$cell==rownames(outSeurat@meta.data)[i])]\n",
    "    outSeurat@meta.data$sampleID[i] <- combinedMeta$sampleID[which(combinedMeta$cell==rownames(outSeurat@meta.data)[i])]\n",
    "    outSeurat@meta.data$time[i] <- combinedMeta$time[which(combinedMeta$cell==rownames(outSeurat@meta.data)[i])]\n",
    "    outSeurat@meta.data$Lineage[i] <- combinedMeta$Lineage[which(combinedMeta$cell==rownames(outSeurat@meta.data)[i])]\n",
    "}\n",
    "    return(outSeurat)\n",
    "}"
   ]
  },
  {
   "cell_type": "code",
   "execution_count": 50,
   "id": "d19be535-1c8e-489d-b067-4d4d60ae7660",
   "metadata": {},
   "outputs": [
    {
     "name": "stderr",
     "output_type": "stream",
     "text": [
      "Warning message:\n",
      "\"Feature names cannot have underscores ('_'), replacing with dashes ('-')\"\n",
      "Warning message:\n",
      "\"Feature names cannot have underscores ('_'), replacing with dashes ('-')\"\n",
      "Warning message:\n",
      "\"Feature names cannot have underscores ('_'), replacing with dashes ('-')\"\n",
      "Warning message:\n",
      "\"The following arguments are not used: row.names\"\n",
      "Warning message:\n",
      "\"Feature names cannot have underscores ('_'), replacing with dashes ('-')\"\n"
     ]
    },
    {
     "ename": "ERROR",
     "evalue": "Error in CreateAssayObject(counts = counts, min.cells = min.cells, min.features = min.features, : No cell names (colnames) names present in the input matrix\n",
     "output_type": "error",
     "traceback": [
      "Error in CreateAssayObject(counts = counts, min.cells = min.cells, min.features = min.features, : No cell names (colnames) names present in the input matrix\nTraceback:\n",
      "1. loadNormalSeurat(sozen, \"sozen\")",
      "2. CreateSeuratObject(counts = input, project = projName, min.cells = 3, \n .     min.features = 200)   # at line 2 of file <text>",
      "3. CreateSeuratObject.default(counts = input, project = projName, \n .     min.cells = 3, min.features = 200)",
      "4. CreateAssayObject(counts = counts, min.cells = min.cells, min.features = min.features, \n .     row.names = row.names)",
      "5. stop(\"No cell names (colnames) names present in the input matrix\")"
     ]
    }
   ],
   "source": [
    "#make seurat objects for everything\n",
    "indSeurats <- list()\n",
    "\n",
    "indSeurats[[1]] <- loadNormalSeurat(rivronLoaded, \"rivron\")\n",
    "indSeurats[[2]] <- loadNormalSeurat(petropolous, \"petropolous\")\n",
    "indSeurats[[3]] <- loadNormalSeurat(tyser, \"tyser\")\n",
    "indSeurats[[4]] <- loadNormalSeurat(pasque, \"pasque\")"
   ]
  },
  {
   "cell_type": "code",
   "execution_count": 25,
   "id": "427a180e-b79f-42ca-9789-e70ffee31919",
   "metadata": {},
   "outputs": [],
   "source": [
    "save(indSeurats, file=\"allDatasets.indSeurats.Robject\")"
   ]
  },
  {
   "cell_type": "code",
   "execution_count": 6,
   "id": "e77f44e2-9b2e-43c3-8b32-e609f7e8bc2a",
   "metadata": {},
   "outputs": [],
   "source": [
    "load(\"allDatasets.indSeurats.Robject\")"
   ]
  }
 ],
 "metadata": {
  "kernelspec": {
   "display_name": "R",
   "language": "R",
   "name": "ir"
  },
  "language_info": {
   "codemirror_mode": "r",
   "file_extension": ".r",
   "mimetype": "text/x-r-source",
   "name": "R",
   "pygments_lexer": "r",
   "version": "4.1.0"
  }
 },
 "nbformat": 4,
 "nbformat_minor": 5
}
